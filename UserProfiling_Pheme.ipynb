{
 "cells": [
  {
   "cell_type": "code",
   "execution_count": 14,
   "metadata": {
    "colab": {
     "base_uri": "https://localhost:8080/"
    },
    "id": "xUMu1arGP64I",
    "outputId": "16ac9db3-7344-4d55-9730-d67d875c20f5"
   },
   "outputs": [
    {
     "name": "stderr",
     "output_type": "stream",
     "text": [
      "[nltk_data] Downloading package stopwords to /root/nltk_data...\n",
      "[nltk_data]   Package stopwords is already up-to-date!\n",
      "[nltk_data] Downloading package punkt_tab to /root/nltk_data...\n",
      "[nltk_data]   Unzipping tokenizers/punkt_tab.zip.\n"
     ]
    },
    {
     "data": {
      "text/plain": [
       "True"
      ]
     },
     "execution_count": 14,
     "metadata": {},
     "output_type": "execute_result"
    }
   ],
   "source": [
    "import nltk\n",
    "nltk.download('stopwords')\n",
    "nltk.download('punkt_tab')"
   ]
  },
  {
   "cell_type": "code",
   "execution_count": 38,
   "metadata": {
    "colab": {
     "base_uri": "https://localhost:8080/"
    },
    "id": "wz4k5XI8Q2Uz",
    "outputId": "4cec5f8a-362c-4d26-ab05-508953bf38b6"
   },
   "outputs": [
    {
     "name": "stdout",
     "output_type": "stream",
     "text": [
      "Collecting vaderSentiment\n",
      "  Downloading vaderSentiment-3.3.2-py2.py3-none-any.whl.metadata (572 bytes)\n",
      "Requirement already satisfied: requests in /usr/local/lib/python3.11/dist-packages (from vaderSentiment) (2.32.3)\n",
      "Requirement already satisfied: charset-normalizer<4,>=2 in /usr/local/lib/python3.11/dist-packages (from requests->vaderSentiment) (3.4.2)\n",
      "Requirement already satisfied: idna<4,>=2.5 in /usr/local/lib/python3.11/dist-packages (from requests->vaderSentiment) (3.10)\n",
      "Requirement already satisfied: urllib3<3,>=1.21.1 in /usr/local/lib/python3.11/dist-packages (from requests->vaderSentiment) (2.4.0)\n",
      "Requirement already satisfied: certifi>=2017.4.17 in /usr/local/lib/python3.11/dist-packages (from requests->vaderSentiment) (2025.4.26)\n",
      "Downloading vaderSentiment-3.3.2-py2.py3-none-any.whl (125 kB)\n",
      "\u001b[?25l   \u001b[90m━━━━━━━━━━━━━━━━━━━━━━━━━━━━━━━━━━━━━━━━\u001b[0m \u001b[32m0.0/126.0 kB\u001b[0m \u001b[31m?\u001b[0m eta \u001b[36m-:--:--\u001b[0m\r",
      "\u001b[2K   \u001b[90m━━━━━━━━━━━━━━━━━━━━━━━━━━━━━━━━━━━━━━━━\u001b[0m \u001b[32m126.0/126.0 kB\u001b[0m \u001b[31m4.2 MB/s\u001b[0m eta \u001b[36m0:00:00\u001b[0m\n",
      "\u001b[?25hInstalling collected packages: vaderSentiment\n",
      "Successfully installed vaderSentiment-3.3.2\n"
     ]
    }
   ],
   "source": [
    "!pip install vaderSentiment"
   ]
  },
  {
   "cell_type": "code",
   "execution_count": 40,
   "metadata": {
    "colab": {
     "base_uri": "https://localhost:8080/"
    },
    "id": "mMSX1ZUXX1oL",
    "outputId": "39e45255-20bb-473c-b53a-5b3d60550586"
   },
   "outputs": [
    {
     "name": "stdout",
     "output_type": "stream",
     "text": [
      "Collecting text2emotion\n",
      "  Downloading text2emotion-0.0.5-py3-none-any.whl.metadata (3.1 kB)\n",
      "Requirement already satisfied: nltk in /usr/local/lib/python3.11/dist-packages (from text2emotion) (3.9.1)\n",
      "Collecting emoji>=0.6.0 (from text2emotion)\n",
      "  Downloading emoji-2.14.1-py3-none-any.whl.metadata (5.7 kB)\n",
      "Requirement already satisfied: click in /usr/local/lib/python3.11/dist-packages (from nltk->text2emotion) (8.2.1)\n",
      "Requirement already satisfied: joblib in /usr/local/lib/python3.11/dist-packages (from nltk->text2emotion) (1.5.1)\n",
      "Requirement already satisfied: regex>=2021.8.3 in /usr/local/lib/python3.11/dist-packages (from nltk->text2emotion) (2024.11.6)\n",
      "Requirement already satisfied: tqdm in /usr/local/lib/python3.11/dist-packages (from nltk->text2emotion) (4.67.1)\n",
      "Downloading text2emotion-0.0.5-py3-none-any.whl (57 kB)\n",
      "\u001b[2K   \u001b[90m━━━━━━━━━━━━━━━━━━━━━━━━━━━━━━━━━━━━━━━━\u001b[0m \u001b[32m57.8/57.8 kB\u001b[0m \u001b[31m3.5 MB/s\u001b[0m eta \u001b[36m0:00:00\u001b[0m\n",
      "\u001b[?25hDownloading emoji-2.14.1-py3-none-any.whl (590 kB)\n",
      "\u001b[2K   \u001b[90m━━━━━━━━━━━━━━━━━━━━━━━━━━━━━━━━━━━━━━━━\u001b[0m \u001b[32m590.6/590.6 kB\u001b[0m \u001b[31m14.0 MB/s\u001b[0m eta \u001b[36m0:00:00\u001b[0m\n",
      "\u001b[?25hInstalling collected packages: emoji, text2emotion\n",
      "Successfully installed emoji-2.14.1 text2emotion-0.0.5\n"
     ]
    }
   ],
   "source": [
    "!pip install text2emotion"
   ]
  },
  {
   "cell_type": "code",
   "execution_count": 46,
   "metadata": {
    "colab": {
     "base_uri": "https://localhost:8080/",
     "height": 393
    },
    "id": "BbpUAotKYyFr",
    "outputId": "81ce8eb7-e9a8-4ece-b008-3ffa711bace0"
   },
   "outputs": [
    {
     "name": "stdout",
     "output_type": "stream",
     "text": [
      "Collecting emoji==1.6.3\n",
      "  Downloading emoji-1.6.3.tar.gz (174 kB)\n",
      "\u001b[?25l     \u001b[90m━━━━━━━━━━━━━━━━━━━━━━━━━━━━━━━━━━━━━━━━\u001b[0m \u001b[32m0.0/174.2 kB\u001b[0m \u001b[31m?\u001b[0m eta \u001b[36m-:--:--\u001b[0m\r",
      "\u001b[2K     \u001b[90m━━━━━━━━━━━━━━━━━━━━━━━━━━━━━━━━━━━━━━━\u001b[0m \u001b[32m174.2/174.2 kB\u001b[0m \u001b[31m5.3 MB/s\u001b[0m eta \u001b[36m0:00:00\u001b[0m\n",
      "\u001b[?25h  Preparing metadata (setup.py) ... \u001b[?25l\u001b[?25hdone\n",
      "Building wheels for collected packages: emoji\n",
      "  Building wheel for emoji (setup.py) ... \u001b[?25l\u001b[?25hdone\n",
      "  Created wheel for emoji: filename=emoji-1.6.3-py3-none-any.whl size=170282 sha256=2038b32aef95f091f9a9377cff57c3cfa9a06a9db7a491ca577efea2bab0b6b8\n",
      "  Stored in directory: /root/.cache/pip/wheels/85/e1/6e/02053f229e270406b51792d6d511a55338c818642599fa9cfe\n",
      "Successfully built emoji\n",
      "Installing collected packages: emoji\n",
      "  Attempting uninstall: emoji\n",
      "    Found existing installation: emoji 2.14.1\n",
      "    Uninstalling emoji-2.14.1:\n",
      "      Successfully uninstalled emoji-2.14.1\n",
      "Successfully installed emoji-1.6.3\n"
     ]
    },
    {
     "data": {
      "application/vnd.colab-display-data+json": {
       "id": "f4f1ddaac0074956bf3af5452b512890",
       "pip_warning": {
        "packages": [
         "emoji"
        ]
       }
      }
     },
     "metadata": {},
     "output_type": "display_data"
    }
   ],
   "source": [
    "!pip install emoji==1.6.3"
   ]
  },
  {
   "cell_type": "code",
   "execution_count": 2,
   "metadata": {
    "id": "miLBGvMpKNbe"
   },
   "outputs": [],
   "source": [
    "import pandas as pd\n",
    "import os\n",
    "import json\n",
    "from tqdm import tqdm\n",
    "from glob import glob"
   ]
  },
  {
   "cell_type": "code",
   "execution_count": 4,
   "metadata": {
    "id": "Mo3YrORePSYF"
   },
   "outputs": [],
   "source": [
    "import tarfile\n",
    "\n",
    "file_path = '/content/phemernrdataset.tar.bz2'\n",
    "extract_path = '/content/phemernrdataset'\n",
    "\n",
    "with tarfile.open(file_path, 'r:bz2') as tar:\n",
    "    tar.extractall(path=extract_path)"
   ]
  },
  {
   "cell_type": "code",
   "execution_count": 3,
   "metadata": {
    "id": "BSxzfh2_KZqi"
   },
   "outputs": [],
   "source": [
    "def load_pheme5_original(main_folder):\n",
    "    data = []\n",
    "\n",
    "    # Traverse event folders\n",
    "    for event_name in os.listdir(main_folder):\n",
    "        event_path = os.path.join(main_folder, event_name)\n",
    "        if not os.path.isdir(event_path):\n",
    "            continue\n",
    "\n",
    "        for label_type in ['rumours', 'non-rumours']:\n",
    "            label_path = os.path.join(event_path, label_type)\n",
    "            if not os.path.isdir(label_path):\n",
    "                continue\n",
    "\n",
    "            for tweet_folder in os.listdir(label_path):\n",
    "                tweet_dir = os.path.join(label_path, tweet_folder, 'source-tweet')\n",
    "                if not os.path.exists(tweet_dir):\n",
    "                    continue\n",
    "\n",
    "                # Load JSON file in the source-tweet folder\n",
    "                for json_file in glob(os.path.join(tweet_dir, '*.json')):\n",
    "                    try:\n",
    "                        with open(json_file, 'r', encoding='utf-8') as f:\n",
    "                            tweet = json.load(f)\n",
    "\n",
    "                        user = tweet.get('user', {})\n",
    "                        data.append({\n",
    "                            'id': tweet.get('id'),\n",
    "                            'text': tweet.get('text'),\n",
    "                            'created_at': tweet.get('created_at'),\n",
    "                            'label': label_type,\n",
    "                            'followers_count': user.get('followers_count'),\n",
    "                            'friends_count': user.get('friends_count'),\n",
    "                            'verified': user.get('verified'),\n",
    "                            'retweet_count': tweet.get('retweet_count'),\n",
    "                            'favorite_count': tweet.get('favorite_count')\n",
    "                        })\n",
    "                    except Exception as e:\n",
    "                        print(f\"Error reading {json_file}: {e}\")\n",
    "\n",
    "    df = pd.DataFrame(data)\n",
    "    return df"
   ]
  },
  {
   "cell_type": "code",
   "execution_count": 4,
   "metadata": {
    "colab": {
     "base_uri": "https://localhost:8080/",
     "height": 379
    },
    "id": "_Tb34tG1Ke1H",
    "outputId": "871074e1-e74b-49b0-9fcf-277559453920"
   },
   "outputs": [
    {
     "data": {
      "application/vnd.google.colaboratory.intrinsic+json": {
       "summary": "{\n  \"name\": \"pheme_df\",\n  \"rows\": 5802,\n  \"fields\": [\n    {\n      \"column\": \"id\",\n      \"properties\": {\n        \"dtype\": \"number\",\n        \"std\": 23492714993297208,\n        \"min\": 498235547685756928,\n        \"max\": 581550667753504768,\n        \"num_unique_values\": 5802,\n        \"samples\": [\n          552829217134505985,\n          544296373466562560,\n          544313132865159169\n        ],\n        \"semantic_type\": \"\",\n        \"description\": \"\"\n      }\n    },\n    {\n      \"column\": \"text\",\n      \"properties\": {\n        \"dtype\": \"string\",\n        \"num_unique_values\": 5790,\n        \"samples\": [\n          \"Thinking of our friends in Ottawa this morning. Please be safe.\",\n          \"#RCMP news conference on #Ottawa shootings expected to begin momentarily. Watch live @ http://t.co/kngapKTSCe\",\n          \"#SydneySiege\\n- Entering 11th hour\\n- At least 15 hostages\\n- 5 hostages escaped\\n- Motivation &amp; demands unknown\\n- 1 gunman - rotating hostages\"\n        ],\n        \"semantic_type\": \"\",\n        \"description\": \"\"\n      }\n    },\n    {\n      \"column\": \"created_at\",\n      \"properties\": {\n        \"dtype\": \"object\",\n        \"num_unique_values\": 5712,\n        \"samples\": [\n          \"Wed Oct 22 16:59:38 +0000 2014\",\n          \"Wed Aug 13 07:12:27 +0000 2014\",\n          \"Mon Dec 15 01:49:11 +0000 2014\"\n        ],\n        \"semantic_type\": \"\",\n        \"description\": \"\"\n      }\n    },\n    {\n      \"column\": \"label\",\n      \"properties\": {\n        \"dtype\": \"category\",\n        \"num_unique_values\": 2,\n        \"samples\": [\n          \"non-rumours\",\n          \"rumours\"\n        ],\n        \"semantic_type\": \"\",\n        \"description\": \"\"\n      }\n    },\n    {\n      \"column\": \"followers_count\",\n      \"properties\": {\n        \"dtype\": \"number\",\n        \"std\": 3312503,\n        \"min\": 14,\n        \"max\": 25303087,\n        \"num_unique_values\": 5486,\n        \"samples\": [\n          162608,\n          55652\n        ],\n        \"semantic_type\": \"\",\n        \"description\": \"\"\n      }\n    },\n    {\n      \"column\": \"friends_count\",\n      \"properties\": {\n        \"dtype\": \"number\",\n        \"std\": 19533,\n        \"min\": 0,\n        \"max\": 453460,\n        \"num_unique_values\": 2048,\n        \"samples\": [\n          6972,\n          2774\n        ],\n        \"semantic_type\": \"\",\n        \"description\": \"\"\n      }\n    },\n    {\n      \"column\": \"verified\",\n      \"properties\": {\n        \"dtype\": \"boolean\",\n        \"num_unique_values\": 2,\n        \"samples\": [\n          true,\n          false\n        ],\n        \"semantic_type\": \"\",\n        \"description\": \"\"\n      }\n    },\n    {\n      \"column\": \"retweet_count\",\n      \"properties\": {\n        \"dtype\": \"number\",\n        \"std\": 2009,\n        \"min\": 25,\n        \"max\": 99524,\n        \"num_unique_values\": 1045,\n        \"samples\": [\n          51951,\n          371\n        ],\n        \"semantic_type\": \"\",\n        \"description\": \"\"\n      }\n    },\n    {\n      \"column\": \"favorite_count\",\n      \"properties\": {\n        \"dtype\": \"number\",\n        \"std\": 2316,\n        \"min\": 0,\n        \"max\": 149783,\n        \"num_unique_values\": 730,\n        \"samples\": [\n          313,\n          69825\n        ],\n        \"semantic_type\": \"\",\n        \"description\": \"\"\n      }\n    }\n  ]\n}",
       "type": "dataframe",
       "variable_name": "pheme_df"
      },
      "text/html": [
       "\n",
       "  <div id=\"df-143d4688-31c7-4218-9791-40f71f925359\" class=\"colab-df-container\">\n",
       "    <div>\n",
       "<style scoped>\n",
       "    .dataframe tbody tr th:only-of-type {\n",
       "        vertical-align: middle;\n",
       "    }\n",
       "\n",
       "    .dataframe tbody tr th {\n",
       "        vertical-align: top;\n",
       "    }\n",
       "\n",
       "    .dataframe thead th {\n",
       "        text-align: right;\n",
       "    }\n",
       "</style>\n",
       "<table border=\"1\" class=\"dataframe\">\n",
       "  <thead>\n",
       "    <tr style=\"text-align: right;\">\n",
       "      <th></th>\n",
       "      <th>id</th>\n",
       "      <th>text</th>\n",
       "      <th>created_at</th>\n",
       "      <th>label</th>\n",
       "      <th>followers_count</th>\n",
       "      <th>friends_count</th>\n",
       "      <th>verified</th>\n",
       "      <th>retweet_count</th>\n",
       "      <th>favorite_count</th>\n",
       "    </tr>\n",
       "  </thead>\n",
       "  <tbody>\n",
       "    <tr>\n",
       "      <th>0</th>\n",
       "      <td>544411097797644288</td>\n",
       "      <td>Police have identified who the gunman is. He i...</td>\n",
       "      <td>Mon Dec 15 08:38:15 +0000 2014</td>\n",
       "      <td>rumours</td>\n",
       "      <td>3951</td>\n",
       "      <td>1504</td>\n",
       "      <td>False</td>\n",
       "      <td>447</td>\n",
       "      <td>130</td>\n",
       "    </tr>\n",
       "    <tr>\n",
       "      <th>1</th>\n",
       "      <td>544373593841623040</td>\n",
       "      <td>2 more people have fled from Sydney cafe where...</td>\n",
       "      <td>Mon Dec 15 06:09:13 +0000 2014</td>\n",
       "      <td>rumours</td>\n",
       "      <td>21719174</td>\n",
       "      <td>109</td>\n",
       "      <td>True</td>\n",
       "      <td>488</td>\n",
       "      <td>290</td>\n",
       "    </tr>\n",
       "    <tr>\n",
       "      <th>2</th>\n",
       "      <td>544317438079139841</td>\n",
       "      <td>HADLEY confirms he is speaking to a hostage in...</td>\n",
       "      <td>Mon Dec 15 02:26:04 +0000 2014</td>\n",
       "      <td>rumours</td>\n",
       "      <td>26763</td>\n",
       "      <td>1146</td>\n",
       "      <td>True</td>\n",
       "      <td>126</td>\n",
       "      <td>17</td>\n",
       "    </tr>\n",
       "    <tr>\n",
       "      <th>3</th>\n",
       "      <td>544277860555710464</td>\n",
       "      <td>ISIS -holding a Cafe hostage in Sydney- forcin...</td>\n",
       "      <td>Sun Dec 14 23:48:48 +0000 2014</td>\n",
       "      <td>rumours</td>\n",
       "      <td>171398</td>\n",
       "      <td>537</td>\n",
       "      <td>False</td>\n",
       "      <td>102</td>\n",
       "      <td>100</td>\n",
       "    </tr>\n",
       "    <tr>\n",
       "      <th>4</th>\n",
       "      <td>544409432600223744</td>\n",
       "      <td>A hostage runs towards a police officer outsid...</td>\n",
       "      <td>Mon Dec 15 08:31:38 +0000 2014</td>\n",
       "      <td>rumours</td>\n",
       "      <td>1640970</td>\n",
       "      <td>49</td>\n",
       "      <td>True</td>\n",
       "      <td>108</td>\n",
       "      <td>57</td>\n",
       "    </tr>\n",
       "  </tbody>\n",
       "</table>\n",
       "</div>\n",
       "    <div class=\"colab-df-buttons\">\n",
       "\n",
       "  <div class=\"colab-df-container\">\n",
       "    <button class=\"colab-df-convert\" onclick=\"convertToInteractive('df-143d4688-31c7-4218-9791-40f71f925359')\"\n",
       "            title=\"Convert this dataframe to an interactive table.\"\n",
       "            style=\"display:none;\">\n",
       "\n",
       "  <svg xmlns=\"http://www.w3.org/2000/svg\" height=\"24px\" viewBox=\"0 -960 960 960\">\n",
       "    <path d=\"M120-120v-720h720v720H120Zm60-500h600v-160H180v160Zm220 220h160v-160H400v160Zm0 220h160v-160H400v160ZM180-400h160v-160H180v160Zm440 0h160v-160H620v160ZM180-180h160v-160H180v160Zm440 0h160v-160H620v160Z\"/>\n",
       "  </svg>\n",
       "    </button>\n",
       "\n",
       "  <style>\n",
       "    .colab-df-container {\n",
       "      display:flex;\n",
       "      gap: 12px;\n",
       "    }\n",
       "\n",
       "    .colab-df-convert {\n",
       "      background-color: #E8F0FE;\n",
       "      border: none;\n",
       "      border-radius: 50%;\n",
       "      cursor: pointer;\n",
       "      display: none;\n",
       "      fill: #1967D2;\n",
       "      height: 32px;\n",
       "      padding: 0 0 0 0;\n",
       "      width: 32px;\n",
       "    }\n",
       "\n",
       "    .colab-df-convert:hover {\n",
       "      background-color: #E2EBFA;\n",
       "      box-shadow: 0px 1px 2px rgba(60, 64, 67, 0.3), 0px 1px 3px 1px rgba(60, 64, 67, 0.15);\n",
       "      fill: #174EA6;\n",
       "    }\n",
       "\n",
       "    .colab-df-buttons div {\n",
       "      margin-bottom: 4px;\n",
       "    }\n",
       "\n",
       "    [theme=dark] .colab-df-convert {\n",
       "      background-color: #3B4455;\n",
       "      fill: #D2E3FC;\n",
       "    }\n",
       "\n",
       "    [theme=dark] .colab-df-convert:hover {\n",
       "      background-color: #434B5C;\n",
       "      box-shadow: 0px 1px 3px 1px rgba(0, 0, 0, 0.15);\n",
       "      filter: drop-shadow(0px 1px 2px rgba(0, 0, 0, 0.3));\n",
       "      fill: #FFFFFF;\n",
       "    }\n",
       "  </style>\n",
       "\n",
       "    <script>\n",
       "      const buttonEl =\n",
       "        document.querySelector('#df-143d4688-31c7-4218-9791-40f71f925359 button.colab-df-convert');\n",
       "      buttonEl.style.display =\n",
       "        google.colab.kernel.accessAllowed ? 'block' : 'none';\n",
       "\n",
       "      async function convertToInteractive(key) {\n",
       "        const element = document.querySelector('#df-143d4688-31c7-4218-9791-40f71f925359');\n",
       "        const dataTable =\n",
       "          await google.colab.kernel.invokeFunction('convertToInteractive',\n",
       "                                                    [key], {});\n",
       "        if (!dataTable) return;\n",
       "\n",
       "        const docLinkHtml = 'Like what you see? Visit the ' +\n",
       "          '<a target=\"_blank\" href=https://colab.research.google.com/notebooks/data_table.ipynb>data table notebook</a>'\n",
       "          + ' to learn more about interactive tables.';\n",
       "        element.innerHTML = '';\n",
       "        dataTable['output_type'] = 'display_data';\n",
       "        await google.colab.output.renderOutput(dataTable, element);\n",
       "        const docLink = document.createElement('div');\n",
       "        docLink.innerHTML = docLinkHtml;\n",
       "        element.appendChild(docLink);\n",
       "      }\n",
       "    </script>\n",
       "  </div>\n",
       "\n",
       "\n",
       "    <div id=\"df-0ea464fb-f6cb-4f1b-a6af-7939ff592962\">\n",
       "      <button class=\"colab-df-quickchart\" onclick=\"quickchart('df-0ea464fb-f6cb-4f1b-a6af-7939ff592962')\"\n",
       "                title=\"Suggest charts\"\n",
       "                style=\"display:none;\">\n",
       "\n",
       "<svg xmlns=\"http://www.w3.org/2000/svg\" height=\"24px\"viewBox=\"0 0 24 24\"\n",
       "     width=\"24px\">\n",
       "    <g>\n",
       "        <path d=\"M19 3H5c-1.1 0-2 .9-2 2v14c0 1.1.9 2 2 2h14c1.1 0 2-.9 2-2V5c0-1.1-.9-2-2-2zM9 17H7v-7h2v7zm4 0h-2V7h2v10zm4 0h-2v-4h2v4z\"/>\n",
       "    </g>\n",
       "</svg>\n",
       "      </button>\n",
       "\n",
       "<style>\n",
       "  .colab-df-quickchart {\n",
       "      --bg-color: #E8F0FE;\n",
       "      --fill-color: #1967D2;\n",
       "      --hover-bg-color: #E2EBFA;\n",
       "      --hover-fill-color: #174EA6;\n",
       "      --disabled-fill-color: #AAA;\n",
       "      --disabled-bg-color: #DDD;\n",
       "  }\n",
       "\n",
       "  [theme=dark] .colab-df-quickchart {\n",
       "      --bg-color: #3B4455;\n",
       "      --fill-color: #D2E3FC;\n",
       "      --hover-bg-color: #434B5C;\n",
       "      --hover-fill-color: #FFFFFF;\n",
       "      --disabled-bg-color: #3B4455;\n",
       "      --disabled-fill-color: #666;\n",
       "  }\n",
       "\n",
       "  .colab-df-quickchart {\n",
       "    background-color: var(--bg-color);\n",
       "    border: none;\n",
       "    border-radius: 50%;\n",
       "    cursor: pointer;\n",
       "    display: none;\n",
       "    fill: var(--fill-color);\n",
       "    height: 32px;\n",
       "    padding: 0;\n",
       "    width: 32px;\n",
       "  }\n",
       "\n",
       "  .colab-df-quickchart:hover {\n",
       "    background-color: var(--hover-bg-color);\n",
       "    box-shadow: 0 1px 2px rgba(60, 64, 67, 0.3), 0 1px 3px 1px rgba(60, 64, 67, 0.15);\n",
       "    fill: var(--button-hover-fill-color);\n",
       "  }\n",
       "\n",
       "  .colab-df-quickchart-complete:disabled,\n",
       "  .colab-df-quickchart-complete:disabled:hover {\n",
       "    background-color: var(--disabled-bg-color);\n",
       "    fill: var(--disabled-fill-color);\n",
       "    box-shadow: none;\n",
       "  }\n",
       "\n",
       "  .colab-df-spinner {\n",
       "    border: 2px solid var(--fill-color);\n",
       "    border-color: transparent;\n",
       "    border-bottom-color: var(--fill-color);\n",
       "    animation:\n",
       "      spin 1s steps(1) infinite;\n",
       "  }\n",
       "\n",
       "  @keyframes spin {\n",
       "    0% {\n",
       "      border-color: transparent;\n",
       "      border-bottom-color: var(--fill-color);\n",
       "      border-left-color: var(--fill-color);\n",
       "    }\n",
       "    20% {\n",
       "      border-color: transparent;\n",
       "      border-left-color: var(--fill-color);\n",
       "      border-top-color: var(--fill-color);\n",
       "    }\n",
       "    30% {\n",
       "      border-color: transparent;\n",
       "      border-left-color: var(--fill-color);\n",
       "      border-top-color: var(--fill-color);\n",
       "      border-right-color: var(--fill-color);\n",
       "    }\n",
       "    40% {\n",
       "      border-color: transparent;\n",
       "      border-right-color: var(--fill-color);\n",
       "      border-top-color: var(--fill-color);\n",
       "    }\n",
       "    60% {\n",
       "      border-color: transparent;\n",
       "      border-right-color: var(--fill-color);\n",
       "    }\n",
       "    80% {\n",
       "      border-color: transparent;\n",
       "      border-right-color: var(--fill-color);\n",
       "      border-bottom-color: var(--fill-color);\n",
       "    }\n",
       "    90% {\n",
       "      border-color: transparent;\n",
       "      border-bottom-color: var(--fill-color);\n",
       "    }\n",
       "  }\n",
       "</style>\n",
       "\n",
       "      <script>\n",
       "        async function quickchart(key) {\n",
       "          const quickchartButtonEl =\n",
       "            document.querySelector('#' + key + ' button');\n",
       "          quickchartButtonEl.disabled = true;  // To prevent multiple clicks.\n",
       "          quickchartButtonEl.classList.add('colab-df-spinner');\n",
       "          try {\n",
       "            const charts = await google.colab.kernel.invokeFunction(\n",
       "                'suggestCharts', [key], {});\n",
       "          } catch (error) {\n",
       "            console.error('Error during call to suggestCharts:', error);\n",
       "          }\n",
       "          quickchartButtonEl.classList.remove('colab-df-spinner');\n",
       "          quickchartButtonEl.classList.add('colab-df-quickchart-complete');\n",
       "        }\n",
       "        (() => {\n",
       "          let quickchartButtonEl =\n",
       "            document.querySelector('#df-0ea464fb-f6cb-4f1b-a6af-7939ff592962 button');\n",
       "          quickchartButtonEl.style.display =\n",
       "            google.colab.kernel.accessAllowed ? 'block' : 'none';\n",
       "        })();\n",
       "      </script>\n",
       "    </div>\n",
       "\n",
       "    </div>\n",
       "  </div>\n"
      ],
      "text/plain": [
       "                   id                                               text  \\\n",
       "0  544411097797644288  Police have identified who the gunman is. He i...   \n",
       "1  544373593841623040  2 more people have fled from Sydney cafe where...   \n",
       "2  544317438079139841  HADLEY confirms he is speaking to a hostage in...   \n",
       "3  544277860555710464  ISIS -holding a Cafe hostage in Sydney- forcin...   \n",
       "4  544409432600223744  A hostage runs towards a police officer outsid...   \n",
       "\n",
       "                       created_at    label  followers_count  friends_count  \\\n",
       "0  Mon Dec 15 08:38:15 +0000 2014  rumours             3951           1504   \n",
       "1  Mon Dec 15 06:09:13 +0000 2014  rumours         21719174            109   \n",
       "2  Mon Dec 15 02:26:04 +0000 2014  rumours            26763           1146   \n",
       "3  Sun Dec 14 23:48:48 +0000 2014  rumours           171398            537   \n",
       "4  Mon Dec 15 08:31:38 +0000 2014  rumours          1640970             49   \n",
       "\n",
       "   verified  retweet_count  favorite_count  \n",
       "0     False            447             130  \n",
       "1      True            488             290  \n",
       "2      True            126              17  \n",
       "3     False            102             100  \n",
       "4      True            108              57  "
      ]
     },
     "execution_count": 4,
     "metadata": {},
     "output_type": "execute_result"
    }
   ],
   "source": [
    "pheme_df = load_pheme5_original(r'/content/phemernrdataset/pheme-rnr-dataset')\n",
    "pheme_df.head()"
   ]
  },
  {
   "cell_type": "markdown",
   "metadata": {
    "id": "IoBDFiTpPmeP"
   },
   "source": [
    "# Preprocessing"
   ]
  },
  {
   "cell_type": "code",
   "execution_count": 5,
   "metadata": {
    "id": "DdDXowLEPoaw"
   },
   "outputs": [],
   "source": [
    "import re\n",
    "import string\n",
    "from nltk.corpus import stopwords"
   ]
  },
  {
   "cell_type": "code",
   "execution_count": 6,
   "metadata": {
    "id": "ltPysQu0PtOv"
   },
   "outputs": [],
   "source": [
    "#PREPROCESSING USING REGULAR EXPRESSION\n",
    "def clean_texts(text):\n",
    "    text = re.sub(r\"that’s\",\"that is\",text)\n",
    "    text = re.sub(r\"there’s\",\"there is\",text)\n",
    "    text = re.sub(r\"what’s\",\"what is\",text)\n",
    "    text = re.sub(r\"where’s\",\"where is\",text)\n",
    "    text = re.sub(r\"it’s\",\"it is\",text)\n",
    "    text = re.sub(r\"who’s\",\"who is\",text)\n",
    "    text = re.sub(r\"i’m\",\"i am\",text)\n",
    "    text = re.sub(r\"she’s\",\"she is\",text)\n",
    "    text = re.sub(r\"he’s\",\"he is\",text)\n",
    "    text = re.sub(r\"they’re\",\"they are\",text)\n",
    "    text = re.sub(r\"who're\",\"who are\",text)\n",
    "    text = re.sub(r\"ain’t\",\"am not\",text)\n",
    "    text = re.sub(r\"wouldn’t\",\"would not\",text)\n",
    "    text = re.sub(r\"shouldn’t\",\"should not\",text)\n",
    "    text = re.sub(r\"can’t\",\"can not\",text)\n",
    "    text = re.sub(r\"couldn’t\",\"could not\",text)\n",
    "    text = re.sub(r\"won’t\",\"will not\",text)\n",
    "    text = re.sub(r\"didn’t\",\"did not\",text)\n",
    "    text = re.sub(r\"doesn’t\",\"does not\",text)\n",
    "    # remove URL\n",
    "    text = re.sub(r\"http\\S+\", \" \", text)\n",
    "#     # Remove usernames\n",
    "    text = re.sub(r\"@[^\\s]+[\\s]?\",' ',text)\n",
    "#     # remove special characters\n",
    "    text = re.sub('[^ a-zA-Z0-9]', ' ', text)\n",
    "#     # remove Numbers\n",
    "    text = re.sub('[0-9]', '', text)\n",
    "    text = re.sub(' +', ' ',text)\n",
    "    text = text.encode('ascii', 'ignore').decode()\n",
    "    text = re.sub(r'@\\S+', ' ', text)\n",
    "    text = re.sub(r'#\\S+', ' ', text)\n",
    "    text = re.sub(r'\\'\\w+', '', text)\n",
    "    text = re.sub('[%s]' % re.escape(string.punctuation), ' ', text)\n",
    "    text = re.sub(r'\\w*\\d+\\w*', '', text)\n",
    "    text = re.sub(r'\\s{2,}', ' ', text)\n",
    "\n",
    "    return text"
   ]
  },
  {
   "cell_type": "code",
   "execution_count": 7,
   "metadata": {
    "id": "FDwjIQ_IPwTs"
   },
   "outputs": [],
   "source": [
    "pheme_df['text'] = pheme_df['text'].apply(clean_texts)"
   ]
  },
  {
   "cell_type": "code",
   "execution_count": 8,
   "metadata": {
    "id": "2ZfHFJlXPyCC"
   },
   "outputs": [],
   "source": [
    "stops = set(stopwords.words(\"english\"))\n",
    "pheme_df['text']=pheme_df['text'].str.lower()\n",
    "pheme_df['text']=pheme_df['text'].apply(lambda x:' '.join([word for word in x.split() if word.lower() not in (stops)]))"
   ]
  },
  {
   "cell_type": "code",
   "execution_count": 9,
   "metadata": {
    "id": "5bvw20TXQG73"
   },
   "outputs": [],
   "source": [
    "pheme_df['label'] = pheme_df['label'].map({'non-rumours': 0, 'rumours': 1})"
   ]
  },
  {
   "cell_type": "markdown",
   "metadata": {
    "id": "v4eHGdcBQKZV"
   },
   "source": [
    "# BERT"
   ]
  },
  {
   "cell_type": "code",
   "execution_count": 12,
   "metadata": {
    "id": "fx7UwwwNQJwU"
   },
   "outputs": [],
   "source": [
    "from transformers import BertTokenizer\n",
    "import torch\n",
    "from sklearn.model_selection import train_test_split\n",
    "from sklearn.preprocessing import StandardScaler\n",
    "from torch.utils.data import Dataset, DataLoader\n",
    "import pandas as pd"
   ]
  },
  {
   "cell_type": "code",
   "execution_count": 13,
   "metadata": {
    "colab": {
     "base_uri": "https://localhost:8080/",
     "height": 269,
     "referenced_widgets": [
      "7393bdb24dc540aea07b72e7542331d4",
      "8c23ae1d8d144b41a11432601ea0cecd",
      "b3f1872610c649db8a76566cb9b42884",
      "28a1b3564b5e4f65abd77b439904a468",
      "f38a72c34882454eb2de281d20eb6f2f",
      "212b048b9b7f4060997bd645dada1d9e",
      "0578bdecbf8a458f929145bf1dff7e2d",
      "f6f12861b6804b9ead0e850399c03043",
      "3a410e3ffc184a78bf36f9b3b6933f67",
      "9743b1ecde854cd6b159745691d9513e",
      "3e9b059430154c6dad4541b84ccc7156",
      "1b46b101a91f40948134273b198c8cd3",
      "9691beb993404634bd7bb2eb04186d1b",
      "cd7c8d863d48432495075d17b9fbf8fb",
      "512ba68ab59d46efb7d54df39da62b55",
      "f2d551c9e2e34c7d8d67adf49968401a",
      "92c34ace561a4b8fb719df519d893780",
      "0ac31a11fc1f4413888287e0d8435075",
      "40c589ea9c3e48cfaee6e533e3c8f8e6",
      "fa138463164245f29e2d03ef9d095bf8",
      "3acb52c101404d25b34bd50a978d061a",
      "2b213de0214b4f7e8fccf66b44e280a1",
      "4bac8d6800ea4b019a8fef81c5ab55b8",
      "5fc754e401d44dc1b0ad63030e780730",
      "4644c3291d95433fb1b90ca48fa6aa76",
      "5165fac0b7754b43964994d4cba76cfd",
      "48de4d7d7ca149d5828e05c593a34794",
      "40fd607c697f4629b775dcce8efd8e10",
      "134dece9828647cd9a67f5d3e786e9cc",
      "4a9931a979f440fab9d16ff65f592fb7",
      "8d9f78ea817b493b8916e61e5142da28",
      "0bc747570bb9483caaa2dd4c654db13e",
      "9c409ee4f2734cf58467aa41669ab79c",
      "d87a8446474749289432a66781995eb7",
      "6996e237f9fa4c5e8703d523b8fe449e",
      "fb4ccce27d494361b8d7137b92360fae",
      "e295ce401d56462cbcb17b7b9f9a3e4c",
      "8fb71927f9f74f0bab78b34963179202",
      "d3cc2284851748a8a1867aa88b5ec0b6",
      "bfa66f7c4bdb43c1bf8f0450fde3911e",
      "033973d343244bf5aa63b53f10d530f6",
      "90204fb6275242569e2a12fbf22e020b",
      "9a17785e7f7747e9b34a4b8c7874ca02",
      "d97ddf80687a4b3e8b912c26b7103720"
     ]
    },
    "id": "6V2vvogYQNIE",
    "outputId": "73d5dfb5-f9b7-4414-8b0e-724aa14a7af0"
   },
   "outputs": [
    {
     "name": "stderr",
     "output_type": "stream",
     "text": [
      "/usr/local/lib/python3.11/dist-packages/huggingface_hub/utils/_auth.py:94: UserWarning: \n",
      "The secret `HF_TOKEN` does not exist in your Colab secrets.\n",
      "To authenticate with the Hugging Face Hub, create a token in your settings tab (https://huggingface.co/settings/tokens), set it as secret in your Google Colab and restart your session.\n",
      "You will be able to reuse this secret in all of your notebooks.\n",
      "Please note that authentication is recommended but still optional to access public models or datasets.\n",
      "  warnings.warn(\n"
     ]
    },
    {
     "data": {
      "application/vnd.jupyter.widget-view+json": {
       "model_id": "7393bdb24dc540aea07b72e7542331d4",
       "version_major": 2,
       "version_minor": 0
      },
      "text/plain": [
       "tokenizer_config.json:   0%|          | 0.00/48.0 [00:00<?, ?B/s]"
      ]
     },
     "metadata": {},
     "output_type": "display_data"
    },
    {
     "data": {
      "application/vnd.jupyter.widget-view+json": {
       "model_id": "1b46b101a91f40948134273b198c8cd3",
       "version_major": 2,
       "version_minor": 0
      },
      "text/plain": [
       "vocab.txt:   0%|          | 0.00/232k [00:00<?, ?B/s]"
      ]
     },
     "metadata": {},
     "output_type": "display_data"
    },
    {
     "data": {
      "application/vnd.jupyter.widget-view+json": {
       "model_id": "4bac8d6800ea4b019a8fef81c5ab55b8",
       "version_major": 2,
       "version_minor": 0
      },
      "text/plain": [
       "tokenizer.json:   0%|          | 0.00/466k [00:00<?, ?B/s]"
      ]
     },
     "metadata": {},
     "output_type": "display_data"
    },
    {
     "data": {
      "application/vnd.jupyter.widget-view+json": {
       "model_id": "d87a8446474749289432a66781995eb7",
       "version_major": 2,
       "version_minor": 0
      },
      "text/plain": [
       "config.json:   0%|          | 0.00/570 [00:00<?, ?B/s]"
      ]
     },
     "metadata": {},
     "output_type": "display_data"
    }
   ],
   "source": [
    "# Load BERT tokenizer\n",
    "tokenizer = BertTokenizer.from_pretrained('bert-base-uncased')"
   ]
  },
  {
   "cell_type": "code",
   "execution_count": 14,
   "metadata": {
    "id": "aBcwvAy6QREM"
   },
   "outputs": [],
   "source": [
    "# Text tokenization function\n",
    "def tokenize_text(text_list):\n",
    "    return tokenizer(\n",
    "        text_list,\n",
    "        padding=True,\n",
    "        truncation=True,\n",
    "        max_length=128,\n",
    "        return_tensors='pt'\n",
    "    )"
   ]
  },
  {
   "cell_type": "code",
   "execution_count": 15,
   "metadata": {
    "id": "kESAMdmBQR_Z"
   },
   "outputs": [],
   "source": [
    "# Normalize user features\n",
    "user_features = ['followers_count', 'friends_count', 'verified', 'retweet_count', 'favorite_count']\n",
    "pheme_df[user_features] = pheme_df[user_features].fillna(0)\n",
    "pheme_df['verified'] = pheme_df['verified'].astype(int)"
   ]
  },
  {
   "cell_type": "code",
   "execution_count": 16,
   "metadata": {
    "id": "jVXHD1LJQT5F"
   },
   "outputs": [],
   "source": [
    "scaler = StandardScaler()\n",
    "pheme_df[user_features] = scaler.fit_transform(pheme_df[user_features])"
   ]
  },
  {
   "cell_type": "code",
   "execution_count": 17,
   "metadata": {
    "id": "LI82f6vIQWxF"
   },
   "outputs": [],
   "source": [
    "train_df, test_df = train_test_split(pheme_df, test_size=0.2, random_state=42, stratify=pheme_df['label'])"
   ]
  },
  {
   "cell_type": "code",
   "execution_count": 19,
   "metadata": {
    "id": "tfC5n1VRQYld"
   },
   "outputs": [],
   "source": [
    "import torch.nn as nn\n",
    "from transformers import BertModel\n",
    "from torch.utils.data import DataLoader\n",
    "from torch.optim import AdamW\n",
    "from sklearn.metrics import accuracy_score\n",
    "from sklearn.metrics import classification_report, accuracy_score\n",
    "from tqdm import tqdm\n",
    "import torch.nn.functional as F"
   ]
  },
  {
   "cell_type": "code",
   "execution_count": 20,
   "metadata": {
    "id": "Bfd5vVAOQajh"
   },
   "outputs": [],
   "source": [
    "class RumorDataset(Dataset):\n",
    "    def __init__(self, dataframe):\n",
    "        self.texts = dataframe['text'].tolist()\n",
    "        self.labels = dataframe['label'].tolist()\n",
    "        self.user_feats = dataframe[user_features].values\n",
    "        self.encodings = tokenize_text(self.texts)\n",
    "\n",
    "    def __getitem__(self, idx):\n",
    "        item = {key: val[idx] for key, val in self.encodings.items()}\n",
    "        item['user_feats'] = torch.tensor(self.user_feats[idx], dtype=torch.float)\n",
    "        item['labels'] = torch.tensor(self.labels[idx], dtype=torch.long)\n",
    "        return item\n",
    "\n",
    "    def __len__(self):\n",
    "        return len(self.labels)\n",
    "\n",
    "train_dataset = RumorDataset(train_df)\n",
    "test_dataset = RumorDataset(test_df)"
   ]
  },
  {
   "cell_type": "code",
   "execution_count": 21,
   "metadata": {
    "id": "tj4ECC2HQ9vK"
   },
   "outputs": [],
   "source": [
    "class BertWithUserFeatures(nn.Module):\n",
    "    def __init__(self):\n",
    "        super(BertWithUserFeatures, self).__init__()\n",
    "        self.bert = BertModel.from_pretrained('bert-base-uncased')\n",
    "        self.dropout = nn.Dropout(0.3)\n",
    "        self.user_fc = nn.Linear(len(user_features), 32)\n",
    "        self.classifier = nn.Linear(self.bert.config.hidden_size + 32, 2)\n",
    "\n",
    "    def forward(self, input_ids, attention_mask, user_feats):\n",
    "        outputs = self.bert(input_ids=input_ids, attention_mask=attention_mask)\n",
    "        cls_output = outputs.pooler_output\n",
    "        user_emb = self.user_fc(user_feats)\n",
    "        combined = torch.cat((cls_output, user_emb), dim=1)\n",
    "        combined = self.dropout(combined)\n",
    "        logits = self.classifier(combined)\n",
    "        return logits"
   ]
  },
  {
   "cell_type": "code",
   "execution_count": 22,
   "metadata": {
    "colab": {
     "base_uri": "https://localhost:8080/",
     "height": 49,
     "referenced_widgets": [
      "d4bf3c68cf8547a8b571e6a1b4177932",
      "a848e98e7e5342bc96594e4d1039057c",
      "203d3f4fe963465f8246994fdb2ce86d",
      "4bed08bce1144bb0a64d06125d96d995",
      "93873d24e75e496fafd1db32be61e58b",
      "6510583eadb94ab79ec2c466ad8d2007",
      "b4da8c16bea54c75ac89ca785f994039",
      "acb5ccb3e2664057bfcad84c6fd3f188",
      "5c03faca365342f8a8aec96a3bb81d71",
      "40a912fb09bf4306bbcbc210d3f84e27",
      "5546967ac47d415787dda0193b023dc2"
     ]
    },
    "id": "LvyS4C2URCT2",
    "outputId": "45dc486b-8157-4139-ba42-fc4990a6f220"
   },
   "outputs": [
    {
     "data": {
      "application/vnd.jupyter.widget-view+json": {
       "model_id": "d4bf3c68cf8547a8b571e6a1b4177932",
       "version_major": 2,
       "version_minor": 0
      },
      "text/plain": [
       "model.safetensors:   0%|          | 0.00/440M [00:00<?, ?B/s]"
      ]
     },
     "metadata": {},
     "output_type": "display_data"
    }
   ],
   "source": [
    "device = torch.device('cuda' if torch.cuda.is_available() else 'cpu')\n",
    "model = BertWithUserFeatures().to(device)\n",
    "optimizer = AdamW(model.parameters(), lr=2e-5)"
   ]
  },
  {
   "cell_type": "code",
   "execution_count": 23,
   "metadata": {
    "id": "lNioAQEhRDvA"
   },
   "outputs": [],
   "source": [
    "train_loader = DataLoader(train_dataset, batch_size=16, shuffle=True)\n",
    "test_loader = DataLoader(test_dataset, batch_size=16)"
   ]
  },
  {
   "cell_type": "code",
   "execution_count": 24,
   "metadata": {
    "colab": {
     "base_uri": "https://localhost:8080/"
    },
    "id": "2OH2XOBfRFs2",
    "outputId": "35af6b9e-a5a1-4449-8806-5f7cd3e44685"
   },
   "outputs": [
    {
     "name": "stderr",
     "output_type": "stream",
     "text": [
      "Epoch 1: 100%|██████████| 291/291 [00:31<00:00,  9.19it/s, loss=0.982]\n"
     ]
    },
    {
     "name": "stdout",
     "output_type": "stream",
     "text": [
      "\n",
      "Epoch 1 Loss: 0.4555 Training Accuracy: 0.7847\n",
      "\n"
     ]
    },
    {
     "name": "stderr",
     "output_type": "stream",
     "text": [
      "Epoch 2: 100%|██████████| 291/291 [00:32<00:00,  9.05it/s, loss=0.0462]\n"
     ]
    },
    {
     "name": "stdout",
     "output_type": "stream",
     "text": [
      "\n",
      "Epoch 2 Loss: 0.2958 Training Accuracy: 0.8750\n",
      "\n"
     ]
    },
    {
     "name": "stderr",
     "output_type": "stream",
     "text": [
      "Epoch 3: 100%|██████████| 291/291 [00:34<00:00,  8.51it/s, loss=0.00614]"
     ]
    },
    {
     "name": "stdout",
     "output_type": "stream",
     "text": [
      "\n",
      "Epoch 3 Loss: 0.1935 Training Accuracy: 0.9259\n",
      "\n"
     ]
    },
    {
     "name": "stderr",
     "output_type": "stream",
     "text": [
      "\n"
     ]
    }
   ],
   "source": [
    "# Training loop\n",
    "for epoch in range(3):\n",
    "    model.train()\n",
    "    total_loss = 0\n",
    "    all_preds = []\n",
    "    all_labels = []\n",
    "\n",
    "    loop = tqdm(train_loader, desc=f\"Epoch {epoch+1}\")\n",
    "\n",
    "    for batch in loop:\n",
    "        input_ids = batch['input_ids'].to(device)\n",
    "        attention_mask = batch['attention_mask'].to(device)\n",
    "        user_feats = batch['user_feats'].to(device)\n",
    "        labels = batch['labels'].to(device)\n",
    "\n",
    "        optimizer.zero_grad()\n",
    "        outputs = model(input_ids, attention_mask, user_feats)\n",
    "\n",
    "        loss = nn.CrossEntropyLoss()(outputs, labels)\n",
    "        total_loss += loss.item()\n",
    "\n",
    "        loss.backward()\n",
    "        optimizer.step()\n",
    "\n",
    "        # Collect predictions for accuracy\n",
    "        preds = torch.argmax(outputs, dim=1)\n",
    "        all_preds.extend(preds.detach().cpu().numpy())\n",
    "        all_labels.extend(labels.detach().cpu().numpy())\n",
    "\n",
    "        # Update progress bar\n",
    "        loop.set_postfix(loss=loss.item())\n",
    "\n",
    "    # Epoch stats\n",
    "    avg_loss = total_loss / len(train_loader)\n",
    "    epoch_acc = accuracy_score(all_labels, all_preds)\n",
    "\n",
    "    print(f\"\\nEpoch {epoch+1} Loss: {avg_loss:.4f} Training Accuracy: {epoch_acc:.4f}\\n\")"
   ]
  },
  {
   "cell_type": "code",
   "execution_count": 25,
   "metadata": {
    "id": "X7yuGLJcRK6d"
   },
   "outputs": [],
   "source": [
    "# Evaluation\n",
    "model.eval()\n",
    "all_preds, all_labels = [], []\n",
    "\n",
    "with torch.no_grad():\n",
    "    for batch in test_loader:\n",
    "        input_ids = batch['input_ids'].to(device)\n",
    "        attention_mask = batch['attention_mask'].to(device)\n",
    "        user_feats = batch['user_feats'].to(device)\n",
    "        labels = batch['labels'].to(device)\n",
    "\n",
    "        outputs = model(input_ids, attention_mask, user_feats)\n",
    "        preds = torch.argmax(outputs, dim=1)\n",
    "\n",
    "        all_preds.extend(preds.cpu().numpy())\n",
    "        all_labels.extend(labels.cpu().numpy())"
   ]
  },
  {
   "cell_type": "code",
   "execution_count": 26,
   "metadata": {
    "colab": {
     "base_uri": "https://localhost:8080/"
    },
    "id": "6EeywWEjRQVY",
    "outputId": "43c01b96-51ea-4c25-b73e-12334ca1ebd2"
   },
   "outputs": [
    {
     "name": "stdout",
     "output_type": "stream",
     "text": [
      "Test Accuracy: 0.8501291989664083\n",
      "Classification Report:\n",
      "              precision    recall  f1-score   support\n",
      "\n",
      "   non-rumor       0.88      0.90      0.89       766\n",
      "       rumor       0.80      0.75      0.77       395\n",
      "\n",
      "    accuracy                           0.85      1161\n",
      "   macro avg       0.84      0.83      0.83      1161\n",
      "weighted avg       0.85      0.85      0.85      1161\n",
      "\n"
     ]
    }
   ],
   "source": [
    "# Accuracy\n",
    "acc = accuracy_score(all_labels, all_preds)\n",
    "print(\"Test Accuracy:\", acc)\n",
    "\n",
    "# Classification Report\n",
    "print(\"Classification Report:\")\n",
    "print(classification_report(all_labels, all_preds, target_names=[\"non-rumor\", \"rumor\"]))"
   ]
  },
  {
   "cell_type": "markdown",
   "metadata": {
    "id": "HcPpNSAwSNro"
   },
   "source": [
    "#RoBERTa"
   ]
  },
  {
   "cell_type": "code",
   "execution_count": 27,
   "metadata": {
    "id": "GuDQKJlrSMcv"
   },
   "outputs": [],
   "source": [
    "import pandas as pd\n",
    "import torch\n",
    "import torch.nn as nn\n",
    "from sklearn.model_selection import train_test_split\n",
    "from sklearn.preprocessing import StandardScaler\n",
    "from transformers import RobertaTokenizer, RobertaModel\n",
    "from sklearn.metrics import accuracy_score, classification_report\n",
    "from torch.utils.data import Dataset, DataLoader\n",
    "from tqdm import tqdm"
   ]
  },
  {
   "cell_type": "code",
   "execution_count": 28,
   "metadata": {
    "colab": {
     "base_uri": "https://localhost:8080/",
     "height": 177,
     "referenced_widgets": [
      "2943a8cd0e614224b131b797ff02f211",
      "8c03c382c96845fd8921c04efaab055f",
      "1ab9e54662ac4536b47c1855891299ce",
      "10defeb2fd7946409896536f9033d47f",
      "154b7f8c0aad4a7fbb643fcf99839fc4",
      "2fb76b0fab7e40eea9c6fda3b5fc4535",
      "1a371af7586c457f8cd22a4a9a6b7294",
      "4317a770da15455daf09fb9077fab72c",
      "48656165fb5a40df83fcc188d95d7dc3",
      "7c3bc3f6298b4cec833c329d4cf6dcaa",
      "f8453f6583a64557bcb668d40eab1234",
      "810069824fea4aa1bde3918a150c2b02",
      "943c340affcd4a92a432d1ef1055df05",
      "3292a847f3f74fb68357fdb0a388daba",
      "7e213399839644248bfaf6419460d8d4",
      "9099d20695ed400088fb6d71d9eaf0bc",
      "04296d23320f4ffb8d75c1288214febf",
      "1a07dfe624f14bf9a113ca0c46077e2e",
      "b7641a2857fa46cdb922cd8f88f48fc8",
      "7f02103a2ad94838ba62755ec4ddb219",
      "bb956f0b7ed44384a289de21ee4ff95a",
      "79e66092ab7d4b168547f0de5ae016dc",
      "752014b550bc46d3bd9dbbc8029a0d76",
      "b91b0d0c9b854b4c82270c04d15d0ebb",
      "49ee8540cff84d16aecd35d4fea6016c",
      "ec83d21483994c64984ef7e0da13dff1",
      "7ea58391625e46fcb365e45619583fa8",
      "92d3f5a53cc440ebbd3ed46f51805023",
      "48013eb7feb844a29053c586c064ce6f",
      "c42bb80899e0478cbfcf28936aaa4f74",
      "0995141e70a34fe7bd461159af0c5910",
      "ef1421304f614fb78de7658d5a3dbb34",
      "36e6fb6de7ed42a6b45035a61fbd6b34",
      "34c5a27844d4421aaa20fdf89712cb1e",
      "9c34e520767d42f194f418e4e4e7c31c",
      "011dbb3d76a447428f96c1422b1a6340",
      "dcd6b6d558bd43d49ec0a85fa489afa8",
      "879736f8e9be4eb1985556425a540bd3",
      "8c68e8d875bd4beeaaa41c0387117ad8",
      "7df6872b63524ad186dedd8be134c293",
      "516a73acf9a04f7b9fa965a9d20f3ee4",
      "7db2e2cbcf8a4cd29b9f2bb2ddb44287",
      "5ba87f81772e4bb3b04c3f717184ca5e",
      "92e1969073914159ae50c2d3e85268b4",
      "89957dd7a472443da7882bc37894e357",
      "d36b358d564340679683c4c65c6515a6",
      "302fa8c14b08499b8e958805f9af2edc",
      "b9d153e7adec4f96b5ef2877b224ff94",
      "c09e5980ecef461f96795b1a40a28e25",
      "a65a785df96b4904954d2bb8b7ccc6de",
      "88d024aacce6403685bfde5458b7d82b",
      "b4820ec961274f52850a8a1190e5bd01",
      "0a208a05b6a94073bcee2bc2c6de66de",
      "004ea413ee554a4b88af2b80cd47288e",
      "c3c5e4ef5a5547f38cfffc8b02e182a0"
     ]
    },
    "id": "XMLNlS5eSS4z",
    "outputId": "cfeb11ad-1469-4bd5-96f6-c0a949d76946"
   },
   "outputs": [
    {
     "data": {
      "application/vnd.jupyter.widget-view+json": {
       "model_id": "2943a8cd0e614224b131b797ff02f211",
       "version_major": 2,
       "version_minor": 0
      },
      "text/plain": [
       "tokenizer_config.json:   0%|          | 0.00/25.0 [00:00<?, ?B/s]"
      ]
     },
     "metadata": {},
     "output_type": "display_data"
    },
    {
     "data": {
      "application/vnd.jupyter.widget-view+json": {
       "model_id": "810069824fea4aa1bde3918a150c2b02",
       "version_major": 2,
       "version_minor": 0
      },
      "text/plain": [
       "vocab.json:   0%|          | 0.00/899k [00:00<?, ?B/s]"
      ]
     },
     "metadata": {},
     "output_type": "display_data"
    },
    {
     "data": {
      "application/vnd.jupyter.widget-view+json": {
       "model_id": "752014b550bc46d3bd9dbbc8029a0d76",
       "version_major": 2,
       "version_minor": 0
      },
      "text/plain": [
       "merges.txt:   0%|          | 0.00/456k [00:00<?, ?B/s]"
      ]
     },
     "metadata": {},
     "output_type": "display_data"
    },
    {
     "data": {
      "application/vnd.jupyter.widget-view+json": {
       "model_id": "34c5a27844d4421aaa20fdf89712cb1e",
       "version_major": 2,
       "version_minor": 0
      },
      "text/plain": [
       "tokenizer.json:   0%|          | 0.00/1.36M [00:00<?, ?B/s]"
      ]
     },
     "metadata": {},
     "output_type": "display_data"
    },
    {
     "data": {
      "application/vnd.jupyter.widget-view+json": {
       "model_id": "89957dd7a472443da7882bc37894e357",
       "version_major": 2,
       "version_minor": 0
      },
      "text/plain": [
       "config.json:   0%|          | 0.00/481 [00:00<?, ?B/s]"
      ]
     },
     "metadata": {},
     "output_type": "display_data"
    }
   ],
   "source": [
    "# Load tokenizer\n",
    "tokenizer = RobertaTokenizer.from_pretrained('roberta-base')"
   ]
  },
  {
   "cell_type": "code",
   "execution_count": 29,
   "metadata": {
    "id": "uRmZcvt8SUpa"
   },
   "outputs": [],
   "source": [
    "user_features = ['followers_count', 'friends_count', 'verified', 'retweet_count', 'favorite_count']\n",
    "pheme_df[user_features] = pheme_df[user_features].fillna(0)\n",
    "pheme_df['verified'] = pheme_df['verified'].astype(int)\n",
    "\n",
    "scaler = StandardScaler()\n",
    "pheme_df[user_features] = scaler.fit_transform(pheme_df[user_features])\n",
    "\n",
    "train_df, test_df = train_test_split(pheme_df, test_size=0.2, stratify=pheme_df['label'], random_state=42)"
   ]
  },
  {
   "cell_type": "code",
   "execution_count": 30,
   "metadata": {
    "id": "wAabPrarSXcp"
   },
   "outputs": [],
   "source": [
    "def tokenize_text(text_list):\n",
    "    return tokenizer(\n",
    "        text_list,\n",
    "        padding=True,\n",
    "        truncation=True,\n",
    "        max_length=128,\n",
    "        return_tensors='pt'\n",
    "    )"
   ]
  },
  {
   "cell_type": "code",
   "execution_count": 31,
   "metadata": {
    "id": "rZ1sXUeYSczy"
   },
   "outputs": [],
   "source": [
    "class RumorDataset(Dataset):\n",
    "    def __init__(self, dataframe):\n",
    "        self.texts = dataframe['text'].tolist()\n",
    "        self.labels = dataframe['label'].tolist()\n",
    "        self.user_feats = dataframe[user_features].values\n",
    "        self.encodings = tokenize_text(self.texts)\n",
    "\n",
    "    def __getitem__(self, idx):\n",
    "        item = {key: val[idx] for key, val in self.encodings.items()}\n",
    "        item['user_feats'] = torch.tensor(self.user_feats[idx], dtype=torch.float)\n",
    "        item['labels'] = torch.tensor(self.labels[idx], dtype=torch.long)\n",
    "        return item\n",
    "\n",
    "    def __len__(self):\n",
    "        return len(self.labels)"
   ]
  },
  {
   "cell_type": "code",
   "execution_count": 32,
   "metadata": {
    "id": "7Hz31AAsSf66"
   },
   "outputs": [],
   "source": [
    "train_dataset = RumorDataset(train_df)\n",
    "test_dataset = RumorDataset(test_df)\n",
    "\n",
    "train_loader = DataLoader(train_dataset, batch_size=16, shuffle=True)\n",
    "test_loader = DataLoader(test_dataset, batch_size=16)"
   ]
  },
  {
   "cell_type": "code",
   "execution_count": 33,
   "metadata": {
    "id": "ZGtjqt7HSiHh"
   },
   "outputs": [],
   "source": [
    "class RobertaWithUserFeatures(nn.Module):\n",
    "    def __init__(self):\n",
    "        super(RobertaWithUserFeatures, self).__init__()\n",
    "        self.roberta = RobertaModel.from_pretrained('roberta-base')\n",
    "        self.dropout = nn.Dropout(0.3)\n",
    "        self.user_fc = nn.Linear(len(user_features), 32)\n",
    "        self.classifier = nn.Linear(self.roberta.config.hidden_size + 32, 2)\n",
    "\n",
    "    def forward(self, input_ids, attention_mask, user_feats):\n",
    "        outputs = self.roberta(input_ids=input_ids, attention_mask=attention_mask)\n",
    "        cls_output = outputs.pooler_output  # Use the pooled output\n",
    "        user_emb = self.user_fc(user_feats)\n",
    "        combined = torch.cat((cls_output, user_emb), dim=1)\n",
    "        combined = self.dropout(combined)\n",
    "        logits = self.classifier(combined)\n",
    "        return logits"
   ]
  },
  {
   "cell_type": "code",
   "execution_count": 34,
   "metadata": {
    "colab": {
     "base_uri": "https://localhost:8080/",
     "height": 104,
     "referenced_widgets": [
      "3e64d6c2becb48c9abc4a4a4d5284a63",
      "f34e41a785c74ff99aaca229bb77c95f",
      "bafcdef774234c76ba3bba002555616b",
      "3963abe9c88e414f9ff75573829c79c0",
      "c36a6990cf7e41e6bcda537334b14449",
      "133a34b8acb64cde8d433f3147985c79",
      "8a8fbfc5b5574b6f94f799878872a105",
      "2de4da643cac414582474cb005710d11",
      "f1faca9768aa44eb869f49f8e347cbcb",
      "0761243eea334358836f3820f70bbe8d",
      "93a1c162675e462aa817c9e52d03181d"
     ]
    },
    "id": "khq7JGPnSk4h",
    "outputId": "6e3736e6-4303-472d-8297-f78b0cd97cd6"
   },
   "outputs": [
    {
     "data": {
      "application/vnd.jupyter.widget-view+json": {
       "model_id": "3e64d6c2becb48c9abc4a4a4d5284a63",
       "version_major": 2,
       "version_minor": 0
      },
      "text/plain": [
       "model.safetensors:   0%|          | 0.00/499M [00:00<?, ?B/s]"
      ]
     },
     "metadata": {},
     "output_type": "display_data"
    },
    {
     "name": "stderr",
     "output_type": "stream",
     "text": [
      "Some weights of RobertaModel were not initialized from the model checkpoint at roberta-base and are newly initialized: ['pooler.dense.bias', 'pooler.dense.weight']\n",
      "You should probably TRAIN this model on a down-stream task to be able to use it for predictions and inference.\n"
     ]
    }
   ],
   "source": [
    "device = torch.device('cuda' if torch.cuda.is_available() else 'cpu')\n",
    "model = RobertaWithUserFeatures().to(device)\n",
    "optimizer = torch.optim.AdamW(model.parameters(), lr=2e-5)"
   ]
  },
  {
   "cell_type": "code",
   "execution_count": 35,
   "metadata": {
    "colab": {
     "base_uri": "https://localhost:8080/"
    },
    "id": "D1Z_2vVFSvGL",
    "outputId": "020d4ec7-231d-43b3-c614-2f938dd56b50"
   },
   "outputs": [
    {
     "name": "stderr",
     "output_type": "stream",
     "text": [
      "Epoch 1: 100%|██████████| 291/291 [00:37<00:00,  7.81it/s, loss=0.867]\n"
     ]
    },
    {
     "name": "stdout",
     "output_type": "stream",
     "text": [
      "\n",
      "Epoch 1 - Avg Loss: 0.4685, Training Accuracy: 0.7826\n",
      "\n"
     ]
    },
    {
     "name": "stderr",
     "output_type": "stream",
     "text": [
      "Epoch 2: 100%|██████████| 291/291 [00:37<00:00,  7.69it/s, loss=0.0114]\n"
     ]
    },
    {
     "name": "stdout",
     "output_type": "stream",
     "text": [
      "\n",
      "Epoch 2 - Avg Loss: 0.3336, Training Accuracy: 0.8552\n",
      "\n"
     ]
    },
    {
     "name": "stderr",
     "output_type": "stream",
     "text": [
      "Epoch 3: 100%|██████████| 291/291 [00:38<00:00,  7.64it/s, loss=0.0153]"
     ]
    },
    {
     "name": "stdout",
     "output_type": "stream",
     "text": [
      "\n",
      "Epoch 3 - Avg Loss: 0.2542, Training Accuracy: 0.8923\n",
      "\n"
     ]
    },
    {
     "name": "stderr",
     "output_type": "stream",
     "text": [
      "\n"
     ]
    }
   ],
   "source": [
    "for epoch in range(3):\n",
    "    model.train()\n",
    "    total_loss = 0\n",
    "    all_preds = []\n",
    "    all_labels = []\n",
    "\n",
    "    loop = tqdm(train_loader, desc=f\"Epoch {epoch+1}\")\n",
    "    for batch in loop:\n",
    "        input_ids = batch['input_ids'].to(device)\n",
    "        attention_mask = batch['attention_mask'].to(device)\n",
    "        user_feats = batch['user_feats'].to(device)\n",
    "        labels = batch['labels'].to(device)\n",
    "\n",
    "        optimizer.zero_grad()\n",
    "        outputs = model(input_ids, attention_mask, user_feats)\n",
    "        loss = nn.CrossEntropyLoss()(outputs, labels)\n",
    "        total_loss += loss.item()\n",
    "        loss.backward()\n",
    "        optimizer.step()\n",
    "\n",
    "        preds = torch.argmax(outputs, dim=1)\n",
    "        all_preds.extend(preds.detach().cpu().numpy())\n",
    "        all_labels.extend(labels.detach().cpu().numpy())\n",
    "        loop.set_postfix(loss=loss.item())\n",
    "\n",
    "    avg_loss = total_loss / len(train_loader)\n",
    "    train_acc = accuracy_score(all_labels, all_preds)\n",
    "    print(f\"\\nEpoch {epoch+1} - Avg Loss: {avg_loss:.4f}, Training Accuracy: {train_acc:.4f}\\n\")"
   ]
  },
  {
   "cell_type": "code",
   "execution_count": 36,
   "metadata": {
    "colab": {
     "base_uri": "https://localhost:8080/"
    },
    "id": "UaOYcZHGSziO",
    "outputId": "725411e9-c3d7-4c9e-fe30-15283c42cf50"
   },
   "outputs": [
    {
     "name": "stdout",
     "output_type": "stream",
     "text": [
      "Test Accuracy: 0.8682170542635659\n",
      "Classification Report:\n",
      "               precision    recall  f1-score   support\n",
      "\n",
      "   non-rumor       0.87      0.93      0.90       766\n",
      "       rumor       0.85      0.74      0.79       395\n",
      "\n",
      "    accuracy                           0.87      1161\n",
      "   macro avg       0.86      0.84      0.85      1161\n",
      "weighted avg       0.87      0.87      0.87      1161\n",
      "\n"
     ]
    }
   ],
   "source": [
    "model.eval()\n",
    "all_preds, all_labels = [], []\n",
    "\n",
    "with torch.no_grad():\n",
    "    for batch in test_loader:\n",
    "        input_ids = batch['input_ids'].to(device)\n",
    "        attention_mask = batch['attention_mask'].to(device)\n",
    "        user_feats = batch['user_feats'].to(device)\n",
    "        labels = batch['labels'].to(device)\n",
    "\n",
    "        outputs = model(input_ids, attention_mask, user_feats)\n",
    "        preds = torch.argmax(outputs, dim=1)\n",
    "\n",
    "        all_preds.extend(preds.cpu().numpy())\n",
    "        all_labels.extend(labels.cpu().numpy())\n",
    "\n",
    "print(\"Test Accuracy:\", accuracy_score(all_labels, all_preds))\n",
    "print(\"Classification Report:\\n\", classification_report(all_labels, all_preds, target_names=[\"non-rumor\", \"rumor\"]))"
   ]
  },
  {
   "cell_type": "markdown",
   "metadata": {
    "id": "RAJo3ycCdMwn"
   },
   "source": [
    "#Ensemble Learning"
   ]
  },
  {
   "cell_type": "code",
   "execution_count": 23,
   "metadata": {
    "id": "uZohZKx-Xsfe"
   },
   "outputs": [],
   "source": [
    "import matplotlib.pyplot as plt\n",
    "import nltk\n",
    "import text2emotion as te\n",
    "import pandas as pd\n",
    "import numpy as np\n",
    "import spacy\n",
    "from textblob import TextBlob\n",
    "from nltk.sentiment.vader import SentimentIntensityAnalyzer\n",
    "from sklearn.model_selection import train_test_split\n",
    "from sklearn.feature_extraction.text import TfidfVectorizer\n",
    "from sklearn.preprocessing import StandardScaler\n",
    "from sklearn.metrics import accuracy_score, classification_report, roc_auc_score, roc_curve\n",
    "from sklearn.ensemble import VotingClassifier\n",
    "from sklearn.tree import DecisionTreeClassifier\n",
    "from sklearn.neighbors import KNeighborsClassifier\n",
    "from sklearn.linear_model import LogisticRegression\n",
    "from sklearn.ensemble import RandomForestClassifier\n",
    "from sklearn.naive_bayes import GaussianNB\n",
    "from xgboost import XGBClassifier\n",
    "import warnings\n",
    "warnings.filterwarnings(\"ignore\")"
   ]
  },
  {
   "cell_type": "code",
   "execution_count": 18,
   "metadata": {
    "colab": {
     "base_uri": "https://localhost:8080/"
    },
    "id": "TgTmmSXMbP3Q",
    "outputId": "a171d606-ff67-49b8-b9e0-a67828637cdc"
   },
   "outputs": [
    {
     "name": "stderr",
     "output_type": "stream",
     "text": [
      "[nltk_data] Downloading package vader_lexicon to /root/nltk_data...\n"
     ]
    }
   ],
   "source": [
    "# Download NLTK/VADER resources\n",
    "nltk.download(\"vader_lexicon\")\n",
    "# Load spaCy\n",
    "nlp = spacy.load(\"en_core_web_sm\")"
   ]
  },
  {
   "cell_type": "code",
   "execution_count": 19,
   "metadata": {
    "id": "_o9ixIvRelrQ"
   },
   "outputs": [],
   "source": [
    "# VADER + TextBlob Sentiment\n",
    "sid = SentimentIntensityAnalyzer()\n",
    "\n",
    "def extract_sentiment(text):\n",
    "    vader = sid.polarity_scores(text)\n",
    "    blob = TextBlob(text)\n",
    "    return pd.Series([\n",
    "        vader[\"pos\"], vader[\"neu\"], vader[\"neg\"], vader[\"compound\"],\n",
    "        blob.sentiment.polarity, blob.sentiment.subjectivity\n",
    "    ])"
   ]
  },
  {
   "cell_type": "code",
   "execution_count": 20,
   "metadata": {
    "id": "zBmZBFJBeqsm"
   },
   "outputs": [],
   "source": [
    "pheme_df[[\"vader_pos\", \"vader_neu\", \"vader_neg\", \"vader_comp\", \"blob_polarity\", \"blob_subjectivity\"]] = pheme_df[\"text\"].apply(extract_sentiment)"
   ]
  },
  {
   "cell_type": "code",
   "execution_count": 21,
   "metadata": {
    "id": "EFKR-jLbezKr"
   },
   "outputs": [],
   "source": [
    "# text2emotion\n",
    "def get_emotions(text):\n",
    "    emotions = te.get_emotion(text)\n",
    "    return pd.Series([emotions.get(em, 0) for em in [\"Happy\", \"Angry\", \"Surprise\", \"Sad\", \"Fear\"]])"
   ]
  },
  {
   "cell_type": "code",
   "execution_count": 22,
   "metadata": {
    "id": "q1yCKDXse3dn"
   },
   "outputs": [],
   "source": [
    "pheme_df[[\"happy\", \"angry\", \"surprise\", \"sad\", \"fear\"]] = pheme_df[\"text\"].apply(get_emotions)"
   ]
  },
  {
   "cell_type": "code",
   "execution_count": 24,
   "metadata": {
    "id": "VxK_5G89e9_2"
   },
   "outputs": [],
   "source": [
    "# spaCy linguistic features\n",
    "def extract_spacy_features(text):\n",
    "    doc = nlp(text)\n",
    "    return pd.Series([\n",
    "        len(doc),  # token count\n",
    "        sum(1 for token in doc if token.pos_ == \"NOUN\"),\n",
    "        sum(1 for token in doc if token.pos_ == \"VERB\"),\n",
    "        sum(1 for token in doc if token.pos_ == \"ADJ\")\n",
    "    ])"
   ]
  },
  {
   "cell_type": "code",
   "execution_count": 25,
   "metadata": {
    "id": "3MOn2G8wfArU"
   },
   "outputs": [],
   "source": [
    "pheme_df[[\"token_count\", \"noun_count\", \"verb_count\", \"adj_count\"]] = pheme_df[\"text\"].apply(extract_spacy_features)"
   ]
  },
  {
   "cell_type": "code",
   "execution_count": 27,
   "metadata": {
    "id": "3ZwgQICDfIcI"
   },
   "outputs": [],
   "source": [
    "# TF-IDF\n",
    "tfidf = TfidfVectorizer(max_features=500)\n",
    "X_text = tfidf.fit_transform(pheme_df[\"text\"]).toarray()"
   ]
  },
  {
   "cell_type": "code",
   "execution_count": 28,
   "metadata": {
    "id": "iPkIqzpDfMAD"
   },
   "outputs": [],
   "source": [
    "# User features\n",
    "user_cols = [\"followers_count\", \"friends_count\", \"verified\", \"retweet_count\", \"favorite_count\"]\n",
    "user_features = pheme_df[user_cols].copy()\n",
    "user_features[\"verified\"] = user_features[\"verified\"].astype(int)\n",
    "X_user = StandardScaler().fit_transform(user_features)"
   ]
  },
  {
   "cell_type": "code",
   "execution_count": 29,
   "metadata": {
    "id": "dv1ywmd0fQ97"
   },
   "outputs": [],
   "source": [
    "# Sentiment/Emotion/SpaCy features\n",
    "other_features = pheme_df[[\n",
    "    \"vader_pos\", \"vader_neu\", \"vader_neg\", \"vader_comp\",\n",
    "    \"blob_polarity\", \"blob_subjectivity\",\n",
    "    \"happy\", \"angry\", \"surprise\", \"sad\", \"fear\",\n",
    "    \"token_count\", \"noun_count\", \"verb_count\", \"adj_count\"\n",
    "]]\n",
    "X_other = StandardScaler().fit_transform(other_features)"
   ]
  },
  {
   "cell_type": "code",
   "execution_count": 30,
   "metadata": {
    "id": "-BBm6ZYkfVOo"
   },
   "outputs": [],
   "source": [
    "# Combine all features\n",
    "X = np.hstack((X_text, X_user, X_other))\n",
    "y = pheme_df[\"label\"].astype(str)"
   ]
  },
  {
   "cell_type": "code",
   "execution_count": 31,
   "metadata": {
    "id": "BX_aIeXQfZpE"
   },
   "outputs": [],
   "source": [
    "# Train-test split\n",
    "X_train, X_test, y_train, y_test = train_test_split(X, y, test_size=0.2, random_state=42)"
   ]
  },
  {
   "cell_type": "code",
   "execution_count": 32,
   "metadata": {
    "id": "zF-vwKQdfkc6"
   },
   "outputs": [],
   "source": [
    "# Define models\n",
    "models = [\n",
    "    (\"dt\", DecisionTreeClassifier(random_state=42)),\n",
    "    (\"knn\", KNeighborsClassifier()),\n",
    "    (\"lr\", LogisticRegression(max_iter=1000)),\n",
    "    (\"rf\", RandomForestClassifier(n_estimators=100, random_state=42)),\n",
    "    (\"nb\", GaussianNB()),\n",
    "    (\"xgb\", XGBClassifier(use_label_encoder=False, eval_metric=\"logloss\"))\n",
    "]"
   ]
  },
  {
   "cell_type": "code",
   "execution_count": 33,
   "metadata": {
    "colab": {
     "base_uri": "https://localhost:8080/",
     "height": 154
    },
    "id": "7p-PlSVAfymX",
    "outputId": "ce62775d-2b3e-4ff4-c7a2-bed35f162901"
   },
   "outputs": [
    {
     "data": {
      "text/html": [
       "<style>#sk-container-id-1 {\n",
       "  /* Definition of color scheme common for light and dark mode */\n",
       "  --sklearn-color-text: #000;\n",
       "  --sklearn-color-text-muted: #666;\n",
       "  --sklearn-color-line: gray;\n",
       "  /* Definition of color scheme for unfitted estimators */\n",
       "  --sklearn-color-unfitted-level-0: #fff5e6;\n",
       "  --sklearn-color-unfitted-level-1: #f6e4d2;\n",
       "  --sklearn-color-unfitted-level-2: #ffe0b3;\n",
       "  --sklearn-color-unfitted-level-3: chocolate;\n",
       "  /* Definition of color scheme for fitted estimators */\n",
       "  --sklearn-color-fitted-level-0: #f0f8ff;\n",
       "  --sklearn-color-fitted-level-1: #d4ebff;\n",
       "  --sklearn-color-fitted-level-2: #b3dbfd;\n",
       "  --sklearn-color-fitted-level-3: cornflowerblue;\n",
       "\n",
       "  /* Specific color for light theme */\n",
       "  --sklearn-color-text-on-default-background: var(--sg-text-color, var(--theme-code-foreground, var(--jp-content-font-color1, black)));\n",
       "  --sklearn-color-background: var(--sg-background-color, var(--theme-background, var(--jp-layout-color0, white)));\n",
       "  --sklearn-color-border-box: var(--sg-text-color, var(--theme-code-foreground, var(--jp-content-font-color1, black)));\n",
       "  --sklearn-color-icon: #696969;\n",
       "\n",
       "  @media (prefers-color-scheme: dark) {\n",
       "    /* Redefinition of color scheme for dark theme */\n",
       "    --sklearn-color-text-on-default-background: var(--sg-text-color, var(--theme-code-foreground, var(--jp-content-font-color1, white)));\n",
       "    --sklearn-color-background: var(--sg-background-color, var(--theme-background, var(--jp-layout-color0, #111)));\n",
       "    --sklearn-color-border-box: var(--sg-text-color, var(--theme-code-foreground, var(--jp-content-font-color1, white)));\n",
       "    --sklearn-color-icon: #878787;\n",
       "  }\n",
       "}\n",
       "\n",
       "#sk-container-id-1 {\n",
       "  color: var(--sklearn-color-text);\n",
       "}\n",
       "\n",
       "#sk-container-id-1 pre {\n",
       "  padding: 0;\n",
       "}\n",
       "\n",
       "#sk-container-id-1 input.sk-hidden--visually {\n",
       "  border: 0;\n",
       "  clip: rect(1px 1px 1px 1px);\n",
       "  clip: rect(1px, 1px, 1px, 1px);\n",
       "  height: 1px;\n",
       "  margin: -1px;\n",
       "  overflow: hidden;\n",
       "  padding: 0;\n",
       "  position: absolute;\n",
       "  width: 1px;\n",
       "}\n",
       "\n",
       "#sk-container-id-1 div.sk-dashed-wrapped {\n",
       "  border: 1px dashed var(--sklearn-color-line);\n",
       "  margin: 0 0.4em 0.5em 0.4em;\n",
       "  box-sizing: border-box;\n",
       "  padding-bottom: 0.4em;\n",
       "  background-color: var(--sklearn-color-background);\n",
       "}\n",
       "\n",
       "#sk-container-id-1 div.sk-container {\n",
       "  /* jupyter's `normalize.less` sets `[hidden] { display: none; }`\n",
       "     but bootstrap.min.css set `[hidden] { display: none !important; }`\n",
       "     so we also need the `!important` here to be able to override the\n",
       "     default hidden behavior on the sphinx rendered scikit-learn.org.\n",
       "     See: https://github.com/scikit-learn/scikit-learn/issues/21755 */\n",
       "  display: inline-block !important;\n",
       "  position: relative;\n",
       "}\n",
       "\n",
       "#sk-container-id-1 div.sk-text-repr-fallback {\n",
       "  display: none;\n",
       "}\n",
       "\n",
       "div.sk-parallel-item,\n",
       "div.sk-serial,\n",
       "div.sk-item {\n",
       "  /* draw centered vertical line to link estimators */\n",
       "  background-image: linear-gradient(var(--sklearn-color-text-on-default-background), var(--sklearn-color-text-on-default-background));\n",
       "  background-size: 2px 100%;\n",
       "  background-repeat: no-repeat;\n",
       "  background-position: center center;\n",
       "}\n",
       "\n",
       "/* Parallel-specific style estimator block */\n",
       "\n",
       "#sk-container-id-1 div.sk-parallel-item::after {\n",
       "  content: \"\";\n",
       "  width: 100%;\n",
       "  border-bottom: 2px solid var(--sklearn-color-text-on-default-background);\n",
       "  flex-grow: 1;\n",
       "}\n",
       "\n",
       "#sk-container-id-1 div.sk-parallel {\n",
       "  display: flex;\n",
       "  align-items: stretch;\n",
       "  justify-content: center;\n",
       "  background-color: var(--sklearn-color-background);\n",
       "  position: relative;\n",
       "}\n",
       "\n",
       "#sk-container-id-1 div.sk-parallel-item {\n",
       "  display: flex;\n",
       "  flex-direction: column;\n",
       "}\n",
       "\n",
       "#sk-container-id-1 div.sk-parallel-item:first-child::after {\n",
       "  align-self: flex-end;\n",
       "  width: 50%;\n",
       "}\n",
       "\n",
       "#sk-container-id-1 div.sk-parallel-item:last-child::after {\n",
       "  align-self: flex-start;\n",
       "  width: 50%;\n",
       "}\n",
       "\n",
       "#sk-container-id-1 div.sk-parallel-item:only-child::after {\n",
       "  width: 0;\n",
       "}\n",
       "\n",
       "/* Serial-specific style estimator block */\n",
       "\n",
       "#sk-container-id-1 div.sk-serial {\n",
       "  display: flex;\n",
       "  flex-direction: column;\n",
       "  align-items: center;\n",
       "  background-color: var(--sklearn-color-background);\n",
       "  padding-right: 1em;\n",
       "  padding-left: 1em;\n",
       "}\n",
       "\n",
       "\n",
       "/* Toggleable style: style used for estimator/Pipeline/ColumnTransformer box that is\n",
       "clickable and can be expanded/collapsed.\n",
       "- Pipeline and ColumnTransformer use this feature and define the default style\n",
       "- Estimators will overwrite some part of the style using the `sk-estimator` class\n",
       "*/\n",
       "\n",
       "/* Pipeline and ColumnTransformer style (default) */\n",
       "\n",
       "#sk-container-id-1 div.sk-toggleable {\n",
       "  /* Default theme specific background. It is overwritten whether we have a\n",
       "  specific estimator or a Pipeline/ColumnTransformer */\n",
       "  background-color: var(--sklearn-color-background);\n",
       "}\n",
       "\n",
       "/* Toggleable label */\n",
       "#sk-container-id-1 label.sk-toggleable__label {\n",
       "  cursor: pointer;\n",
       "  display: flex;\n",
       "  width: 100%;\n",
       "  margin-bottom: 0;\n",
       "  padding: 0.5em;\n",
       "  box-sizing: border-box;\n",
       "  text-align: center;\n",
       "  align-items: start;\n",
       "  justify-content: space-between;\n",
       "  gap: 0.5em;\n",
       "}\n",
       "\n",
       "#sk-container-id-1 label.sk-toggleable__label .caption {\n",
       "  font-size: 0.6rem;\n",
       "  font-weight: lighter;\n",
       "  color: var(--sklearn-color-text-muted);\n",
       "}\n",
       "\n",
       "#sk-container-id-1 label.sk-toggleable__label-arrow:before {\n",
       "  /* Arrow on the left of the label */\n",
       "  content: \"▸\";\n",
       "  float: left;\n",
       "  margin-right: 0.25em;\n",
       "  color: var(--sklearn-color-icon);\n",
       "}\n",
       "\n",
       "#sk-container-id-1 label.sk-toggleable__label-arrow:hover:before {\n",
       "  color: var(--sklearn-color-text);\n",
       "}\n",
       "\n",
       "/* Toggleable content - dropdown */\n",
       "\n",
       "#sk-container-id-1 div.sk-toggleable__content {\n",
       "  max-height: 0;\n",
       "  max-width: 0;\n",
       "  overflow: hidden;\n",
       "  text-align: left;\n",
       "  /* unfitted */\n",
       "  background-color: var(--sklearn-color-unfitted-level-0);\n",
       "}\n",
       "\n",
       "#sk-container-id-1 div.sk-toggleable__content.fitted {\n",
       "  /* fitted */\n",
       "  background-color: var(--sklearn-color-fitted-level-0);\n",
       "}\n",
       "\n",
       "#sk-container-id-1 div.sk-toggleable__content pre {\n",
       "  margin: 0.2em;\n",
       "  border-radius: 0.25em;\n",
       "  color: var(--sklearn-color-text);\n",
       "  /* unfitted */\n",
       "  background-color: var(--sklearn-color-unfitted-level-0);\n",
       "}\n",
       "\n",
       "#sk-container-id-1 div.sk-toggleable__content.fitted pre {\n",
       "  /* unfitted */\n",
       "  background-color: var(--sklearn-color-fitted-level-0);\n",
       "}\n",
       "\n",
       "#sk-container-id-1 input.sk-toggleable__control:checked~div.sk-toggleable__content {\n",
       "  /* Expand drop-down */\n",
       "  max-height: 200px;\n",
       "  max-width: 100%;\n",
       "  overflow: auto;\n",
       "}\n",
       "\n",
       "#sk-container-id-1 input.sk-toggleable__control:checked~label.sk-toggleable__label-arrow:before {\n",
       "  content: \"▾\";\n",
       "}\n",
       "\n",
       "/* Pipeline/ColumnTransformer-specific style */\n",
       "\n",
       "#sk-container-id-1 div.sk-label input.sk-toggleable__control:checked~label.sk-toggleable__label {\n",
       "  color: var(--sklearn-color-text);\n",
       "  background-color: var(--sklearn-color-unfitted-level-2);\n",
       "}\n",
       "\n",
       "#sk-container-id-1 div.sk-label.fitted input.sk-toggleable__control:checked~label.sk-toggleable__label {\n",
       "  background-color: var(--sklearn-color-fitted-level-2);\n",
       "}\n",
       "\n",
       "/* Estimator-specific style */\n",
       "\n",
       "/* Colorize estimator box */\n",
       "#sk-container-id-1 div.sk-estimator input.sk-toggleable__control:checked~label.sk-toggleable__label {\n",
       "  /* unfitted */\n",
       "  background-color: var(--sklearn-color-unfitted-level-2);\n",
       "}\n",
       "\n",
       "#sk-container-id-1 div.sk-estimator.fitted input.sk-toggleable__control:checked~label.sk-toggleable__label {\n",
       "  /* fitted */\n",
       "  background-color: var(--sklearn-color-fitted-level-2);\n",
       "}\n",
       "\n",
       "#sk-container-id-1 div.sk-label label.sk-toggleable__label,\n",
       "#sk-container-id-1 div.sk-label label {\n",
       "  /* The background is the default theme color */\n",
       "  color: var(--sklearn-color-text-on-default-background);\n",
       "}\n",
       "\n",
       "/* On hover, darken the color of the background */\n",
       "#sk-container-id-1 div.sk-label:hover label.sk-toggleable__label {\n",
       "  color: var(--sklearn-color-text);\n",
       "  background-color: var(--sklearn-color-unfitted-level-2);\n",
       "}\n",
       "\n",
       "/* Label box, darken color on hover, fitted */\n",
       "#sk-container-id-1 div.sk-label.fitted:hover label.sk-toggleable__label.fitted {\n",
       "  color: var(--sklearn-color-text);\n",
       "  background-color: var(--sklearn-color-fitted-level-2);\n",
       "}\n",
       "\n",
       "/* Estimator label */\n",
       "\n",
       "#sk-container-id-1 div.sk-label label {\n",
       "  font-family: monospace;\n",
       "  font-weight: bold;\n",
       "  display: inline-block;\n",
       "  line-height: 1.2em;\n",
       "}\n",
       "\n",
       "#sk-container-id-1 div.sk-label-container {\n",
       "  text-align: center;\n",
       "}\n",
       "\n",
       "/* Estimator-specific */\n",
       "#sk-container-id-1 div.sk-estimator {\n",
       "  font-family: monospace;\n",
       "  border: 1px dotted var(--sklearn-color-border-box);\n",
       "  border-radius: 0.25em;\n",
       "  box-sizing: border-box;\n",
       "  margin-bottom: 0.5em;\n",
       "  /* unfitted */\n",
       "  background-color: var(--sklearn-color-unfitted-level-0);\n",
       "}\n",
       "\n",
       "#sk-container-id-1 div.sk-estimator.fitted {\n",
       "  /* fitted */\n",
       "  background-color: var(--sklearn-color-fitted-level-0);\n",
       "}\n",
       "\n",
       "/* on hover */\n",
       "#sk-container-id-1 div.sk-estimator:hover {\n",
       "  /* unfitted */\n",
       "  background-color: var(--sklearn-color-unfitted-level-2);\n",
       "}\n",
       "\n",
       "#sk-container-id-1 div.sk-estimator.fitted:hover {\n",
       "  /* fitted */\n",
       "  background-color: var(--sklearn-color-fitted-level-2);\n",
       "}\n",
       "\n",
       "/* Specification for estimator info (e.g. \"i\" and \"?\") */\n",
       "\n",
       "/* Common style for \"i\" and \"?\" */\n",
       "\n",
       ".sk-estimator-doc-link,\n",
       "a:link.sk-estimator-doc-link,\n",
       "a:visited.sk-estimator-doc-link {\n",
       "  float: right;\n",
       "  font-size: smaller;\n",
       "  line-height: 1em;\n",
       "  font-family: monospace;\n",
       "  background-color: var(--sklearn-color-background);\n",
       "  border-radius: 1em;\n",
       "  height: 1em;\n",
       "  width: 1em;\n",
       "  text-decoration: none !important;\n",
       "  margin-left: 0.5em;\n",
       "  text-align: center;\n",
       "  /* unfitted */\n",
       "  border: var(--sklearn-color-unfitted-level-1) 1pt solid;\n",
       "  color: var(--sklearn-color-unfitted-level-1);\n",
       "}\n",
       "\n",
       ".sk-estimator-doc-link.fitted,\n",
       "a:link.sk-estimator-doc-link.fitted,\n",
       "a:visited.sk-estimator-doc-link.fitted {\n",
       "  /* fitted */\n",
       "  border: var(--sklearn-color-fitted-level-1) 1pt solid;\n",
       "  color: var(--sklearn-color-fitted-level-1);\n",
       "}\n",
       "\n",
       "/* On hover */\n",
       "div.sk-estimator:hover .sk-estimator-doc-link:hover,\n",
       ".sk-estimator-doc-link:hover,\n",
       "div.sk-label-container:hover .sk-estimator-doc-link:hover,\n",
       ".sk-estimator-doc-link:hover {\n",
       "  /* unfitted */\n",
       "  background-color: var(--sklearn-color-unfitted-level-3);\n",
       "  color: var(--sklearn-color-background);\n",
       "  text-decoration: none;\n",
       "}\n",
       "\n",
       "div.sk-estimator.fitted:hover .sk-estimator-doc-link.fitted:hover,\n",
       ".sk-estimator-doc-link.fitted:hover,\n",
       "div.sk-label-container:hover .sk-estimator-doc-link.fitted:hover,\n",
       ".sk-estimator-doc-link.fitted:hover {\n",
       "  /* fitted */\n",
       "  background-color: var(--sklearn-color-fitted-level-3);\n",
       "  color: var(--sklearn-color-background);\n",
       "  text-decoration: none;\n",
       "}\n",
       "\n",
       "/* Span, style for the box shown on hovering the info icon */\n",
       ".sk-estimator-doc-link span {\n",
       "  display: none;\n",
       "  z-index: 9999;\n",
       "  position: relative;\n",
       "  font-weight: normal;\n",
       "  right: .2ex;\n",
       "  padding: .5ex;\n",
       "  margin: .5ex;\n",
       "  width: min-content;\n",
       "  min-width: 20ex;\n",
       "  max-width: 50ex;\n",
       "  color: var(--sklearn-color-text);\n",
       "  box-shadow: 2pt 2pt 4pt #999;\n",
       "  /* unfitted */\n",
       "  background: var(--sklearn-color-unfitted-level-0);\n",
       "  border: .5pt solid var(--sklearn-color-unfitted-level-3);\n",
       "}\n",
       "\n",
       ".sk-estimator-doc-link.fitted span {\n",
       "  /* fitted */\n",
       "  background: var(--sklearn-color-fitted-level-0);\n",
       "  border: var(--sklearn-color-fitted-level-3);\n",
       "}\n",
       "\n",
       ".sk-estimator-doc-link:hover span {\n",
       "  display: block;\n",
       "}\n",
       "\n",
       "/* \"?\"-specific style due to the `<a>` HTML tag */\n",
       "\n",
       "#sk-container-id-1 a.estimator_doc_link {\n",
       "  float: right;\n",
       "  font-size: 1rem;\n",
       "  line-height: 1em;\n",
       "  font-family: monospace;\n",
       "  background-color: var(--sklearn-color-background);\n",
       "  border-radius: 1rem;\n",
       "  height: 1rem;\n",
       "  width: 1rem;\n",
       "  text-decoration: none;\n",
       "  /* unfitted */\n",
       "  color: var(--sklearn-color-unfitted-level-1);\n",
       "  border: var(--sklearn-color-unfitted-level-1) 1pt solid;\n",
       "}\n",
       "\n",
       "#sk-container-id-1 a.estimator_doc_link.fitted {\n",
       "  /* fitted */\n",
       "  border: var(--sklearn-color-fitted-level-1) 1pt solid;\n",
       "  color: var(--sklearn-color-fitted-level-1);\n",
       "}\n",
       "\n",
       "/* On hover */\n",
       "#sk-container-id-1 a.estimator_doc_link:hover {\n",
       "  /* unfitted */\n",
       "  background-color: var(--sklearn-color-unfitted-level-3);\n",
       "  color: var(--sklearn-color-background);\n",
       "  text-decoration: none;\n",
       "}\n",
       "\n",
       "#sk-container-id-1 a.estimator_doc_link.fitted:hover {\n",
       "  /* fitted */\n",
       "  background-color: var(--sklearn-color-fitted-level-3);\n",
       "}\n",
       "</style><div id=\"sk-container-id-1\" class=\"sk-top-container\"><div class=\"sk-text-repr-fallback\"><pre>VotingClassifier(estimators=[(&#x27;dt&#x27;, DecisionTreeClassifier(random_state=42)),\n",
       "                             (&#x27;knn&#x27;, KNeighborsClassifier()),\n",
       "                             (&#x27;lr&#x27;, LogisticRegression(max_iter=1000)),\n",
       "                             (&#x27;rf&#x27;, RandomForestClassifier(random_state=42)),\n",
       "                             (&#x27;nb&#x27;, GaussianNB()),\n",
       "                             (&#x27;xgb&#x27;,\n",
       "                              XGBClassifier(base_score=None, booster=None,\n",
       "                                            callbacks=None,\n",
       "                                            colsample_bylevel=None,\n",
       "                                            colsample_bynode=None,\n",
       "                                            colsample_bytree=None, dev...\n",
       "                                            importance_type=None,\n",
       "                                            interaction_constraints=None,\n",
       "                                            learning_rate=None, max_bin=None,\n",
       "                                            max_cat_threshold=None,\n",
       "                                            max_cat_to_onehot=None,\n",
       "                                            max_delta_step=None, max_depth=None,\n",
       "                                            max_leaves=None,\n",
       "                                            min_child_weight=None, missing=nan,\n",
       "                                            monotone_constraints=None,\n",
       "                                            multi_strategy=None,\n",
       "                                            n_estimators=None, n_jobs=None,\n",
       "                                            num_parallel_tree=None,\n",
       "                                            random_state=None, ...))],\n",
       "                 voting=&#x27;soft&#x27;)</pre><b>In a Jupyter environment, please rerun this cell to show the HTML representation or trust the notebook. <br />On GitHub, the HTML representation is unable to render, please try loading this page with nbviewer.org.</b></div><div class=\"sk-container\" hidden><div class=\"sk-item sk-dashed-wrapped\"><div class=\"sk-label-container\"><div class=\"sk-label fitted sk-toggleable\"><input class=\"sk-toggleable__control sk-hidden--visually\" id=\"sk-estimator-id-1\" type=\"checkbox\" ><label for=\"sk-estimator-id-1\" class=\"sk-toggleable__label fitted sk-toggleable__label-arrow\"><div><div>VotingClassifier</div></div><div><a class=\"sk-estimator-doc-link fitted\" rel=\"noreferrer\" target=\"_blank\" href=\"https://scikit-learn.org/1.6/modules/generated/sklearn.ensemble.VotingClassifier.html\">?<span>Documentation for VotingClassifier</span></a><span class=\"sk-estimator-doc-link fitted\">i<span>Fitted</span></span></div></label><div class=\"sk-toggleable__content fitted\"><pre>VotingClassifier(estimators=[(&#x27;dt&#x27;, DecisionTreeClassifier(random_state=42)),\n",
       "                             (&#x27;knn&#x27;, KNeighborsClassifier()),\n",
       "                             (&#x27;lr&#x27;, LogisticRegression(max_iter=1000)),\n",
       "                             (&#x27;rf&#x27;, RandomForestClassifier(random_state=42)),\n",
       "                             (&#x27;nb&#x27;, GaussianNB()),\n",
       "                             (&#x27;xgb&#x27;,\n",
       "                              XGBClassifier(base_score=None, booster=None,\n",
       "                                            callbacks=None,\n",
       "                                            colsample_bylevel=None,\n",
       "                                            colsample_bynode=None,\n",
       "                                            colsample_bytree=None, dev...\n",
       "                                            importance_type=None,\n",
       "                                            interaction_constraints=None,\n",
       "                                            learning_rate=None, max_bin=None,\n",
       "                                            max_cat_threshold=None,\n",
       "                                            max_cat_to_onehot=None,\n",
       "                                            max_delta_step=None, max_depth=None,\n",
       "                                            max_leaves=None,\n",
       "                                            min_child_weight=None, missing=nan,\n",
       "                                            monotone_constraints=None,\n",
       "                                            multi_strategy=None,\n",
       "                                            n_estimators=None, n_jobs=None,\n",
       "                                            num_parallel_tree=None,\n",
       "                                            random_state=None, ...))],\n",
       "                 voting=&#x27;soft&#x27;)</pre></div> </div></div><div class=\"sk-parallel\"><div class=\"sk-parallel-item\"><div class=\"sk-item\"><div class=\"sk-label-container\"><div class=\"sk-label fitted sk-toggleable\"><label>dt</label></div></div><div class=\"sk-serial\"><div class=\"sk-item\"><div class=\"sk-estimator fitted sk-toggleable\"><input class=\"sk-toggleable__control sk-hidden--visually\" id=\"sk-estimator-id-2\" type=\"checkbox\" ><label for=\"sk-estimator-id-2\" class=\"sk-toggleable__label fitted sk-toggleable__label-arrow\"><div><div>DecisionTreeClassifier</div></div><div><a class=\"sk-estimator-doc-link fitted\" rel=\"noreferrer\" target=\"_blank\" href=\"https://scikit-learn.org/1.6/modules/generated/sklearn.tree.DecisionTreeClassifier.html\">?<span>Documentation for DecisionTreeClassifier</span></a></div></label><div class=\"sk-toggleable__content fitted\"><pre>DecisionTreeClassifier(random_state=42)</pre></div> </div></div></div></div></div><div class=\"sk-parallel-item\"><div class=\"sk-item\"><div class=\"sk-label-container\"><div class=\"sk-label fitted sk-toggleable\"><label>knn</label></div></div><div class=\"sk-serial\"><div class=\"sk-item\"><div class=\"sk-estimator fitted sk-toggleable\"><input class=\"sk-toggleable__control sk-hidden--visually\" id=\"sk-estimator-id-3\" type=\"checkbox\" ><label for=\"sk-estimator-id-3\" class=\"sk-toggleable__label fitted sk-toggleable__label-arrow\"><div><div>KNeighborsClassifier</div></div><div><a class=\"sk-estimator-doc-link fitted\" rel=\"noreferrer\" target=\"_blank\" href=\"https://scikit-learn.org/1.6/modules/generated/sklearn.neighbors.KNeighborsClassifier.html\">?<span>Documentation for KNeighborsClassifier</span></a></div></label><div class=\"sk-toggleable__content fitted\"><pre>KNeighborsClassifier()</pre></div> </div></div></div></div></div><div class=\"sk-parallel-item\"><div class=\"sk-item\"><div class=\"sk-label-container\"><div class=\"sk-label fitted sk-toggleable\"><label>lr</label></div></div><div class=\"sk-serial\"><div class=\"sk-item\"><div class=\"sk-estimator fitted sk-toggleable\"><input class=\"sk-toggleable__control sk-hidden--visually\" id=\"sk-estimator-id-4\" type=\"checkbox\" ><label for=\"sk-estimator-id-4\" class=\"sk-toggleable__label fitted sk-toggleable__label-arrow\"><div><div>LogisticRegression</div></div><div><a class=\"sk-estimator-doc-link fitted\" rel=\"noreferrer\" target=\"_blank\" href=\"https://scikit-learn.org/1.6/modules/generated/sklearn.linear_model.LogisticRegression.html\">?<span>Documentation for LogisticRegression</span></a></div></label><div class=\"sk-toggleable__content fitted\"><pre>LogisticRegression(max_iter=1000)</pre></div> </div></div></div></div></div><div class=\"sk-parallel-item\"><div class=\"sk-item\"><div class=\"sk-label-container\"><div class=\"sk-label fitted sk-toggleable\"><label>rf</label></div></div><div class=\"sk-serial\"><div class=\"sk-item\"><div class=\"sk-estimator fitted sk-toggleable\"><input class=\"sk-toggleable__control sk-hidden--visually\" id=\"sk-estimator-id-5\" type=\"checkbox\" ><label for=\"sk-estimator-id-5\" class=\"sk-toggleable__label fitted sk-toggleable__label-arrow\"><div><div>RandomForestClassifier</div></div><div><a class=\"sk-estimator-doc-link fitted\" rel=\"noreferrer\" target=\"_blank\" href=\"https://scikit-learn.org/1.6/modules/generated/sklearn.ensemble.RandomForestClassifier.html\">?<span>Documentation for RandomForestClassifier</span></a></div></label><div class=\"sk-toggleable__content fitted\"><pre>RandomForestClassifier(random_state=42)</pre></div> </div></div></div></div></div><div class=\"sk-parallel-item\"><div class=\"sk-item\"><div class=\"sk-label-container\"><div class=\"sk-label fitted sk-toggleable\"><label>nb</label></div></div><div class=\"sk-serial\"><div class=\"sk-item\"><div class=\"sk-estimator fitted sk-toggleable\"><input class=\"sk-toggleable__control sk-hidden--visually\" id=\"sk-estimator-id-6\" type=\"checkbox\" ><label for=\"sk-estimator-id-6\" class=\"sk-toggleable__label fitted sk-toggleable__label-arrow\"><div><div>GaussianNB</div></div><div><a class=\"sk-estimator-doc-link fitted\" rel=\"noreferrer\" target=\"_blank\" href=\"https://scikit-learn.org/1.6/modules/generated/sklearn.naive_bayes.GaussianNB.html\">?<span>Documentation for GaussianNB</span></a></div></label><div class=\"sk-toggleable__content fitted\"><pre>GaussianNB()</pre></div> </div></div></div></div></div><div class=\"sk-parallel-item\"><div class=\"sk-item\"><div class=\"sk-label-container\"><div class=\"sk-label fitted sk-toggleable\"><label>xgb</label></div></div><div class=\"sk-serial\"><div class=\"sk-item\"><div class=\"sk-estimator fitted sk-toggleable\"><input class=\"sk-toggleable__control sk-hidden--visually\" id=\"sk-estimator-id-7\" type=\"checkbox\" ><label for=\"sk-estimator-id-7\" class=\"sk-toggleable__label fitted sk-toggleable__label-arrow\"><div><div>XGBClassifier</div></div></label><div class=\"sk-toggleable__content fitted\"><pre>XGBClassifier(base_score=None, booster=None, callbacks=None,\n",
       "              colsample_bylevel=None, colsample_bynode=None,\n",
       "              colsample_bytree=None, device=None, early_stopping_rounds=None,\n",
       "              enable_categorical=False, eval_metric=&#x27;logloss&#x27;,\n",
       "              feature_types=None, gamma=None, grow_policy=None,\n",
       "              importance_type=None, interaction_constraints=None,\n",
       "              learning_rate=None, max_bin=None, max_cat_threshold=None,\n",
       "              max_cat_to_onehot=None, max_delta_step=None, max_depth=None,\n",
       "              max_leaves=None, min_child_weight=None, missing=nan,\n",
       "              monotone_constraints=None, multi_strategy=None, n_estimators=None,\n",
       "              n_jobs=None, num_parallel_tree=None, random_state=None, ...)</pre></div> </div></div></div></div></div></div></div></div></div>"
      ],
      "text/plain": [
       "VotingClassifier(estimators=[('dt', DecisionTreeClassifier(random_state=42)),\n",
       "                             ('knn', KNeighborsClassifier()),\n",
       "                             ('lr', LogisticRegression(max_iter=1000)),\n",
       "                             ('rf', RandomForestClassifier(random_state=42)),\n",
       "                             ('nb', GaussianNB()),\n",
       "                             ('xgb',\n",
       "                              XGBClassifier(base_score=None, booster=None,\n",
       "                                            callbacks=None,\n",
       "                                            colsample_bylevel=None,\n",
       "                                            colsample_bynode=None,\n",
       "                                            colsample_bytree=None, dev...\n",
       "                                            importance_type=None,\n",
       "                                            interaction_constraints=None,\n",
       "                                            learning_rate=None, max_bin=None,\n",
       "                                            max_cat_threshold=None,\n",
       "                                            max_cat_to_onehot=None,\n",
       "                                            max_delta_step=None, max_depth=None,\n",
       "                                            max_leaves=None,\n",
       "                                            min_child_weight=None, missing=nan,\n",
       "                                            monotone_constraints=None,\n",
       "                                            multi_strategy=None,\n",
       "                                            n_estimators=None, n_jobs=None,\n",
       "                                            num_parallel_tree=None,\n",
       "                                            random_state=None, ...))],\n",
       "                 voting='soft')"
      ]
     },
     "execution_count": 33,
     "metadata": {},
     "output_type": "execute_result"
    }
   ],
   "source": [
    "# Ensemble model\n",
    "ensemble = VotingClassifier(estimators=models, voting=\"soft\")\n",
    "ensemble.fit(X_train, y_train)"
   ]
  },
  {
   "cell_type": "code",
   "execution_count": 34,
   "metadata": {
    "id": "Ho21fyHhf03f"
   },
   "outputs": [],
   "source": [
    "# Predictions\n",
    "y_pred = ensemble.predict(X_test)\n",
    "y_proba = ensemble.predict_proba(X_test)"
   ]
  },
  {
   "cell_type": "code",
   "execution_count": 35,
   "metadata": {
    "colab": {
     "base_uri": "https://localhost:8080/"
    },
    "id": "c2mlRFEhf2xG",
    "outputId": "31c24817-1d84-4c19-ae47-934a9841b9fe"
   },
   "outputs": [
    {
     "name": "stdout",
     "output_type": "stream",
     "text": [
      "Accuracy: 0.8337639965546942\n",
      "              precision    recall  f1-score   support\n",
      "\n",
      "           0       0.87      0.87      0.87       749\n",
      "           1       0.76      0.77      0.77       412\n",
      "\n",
      "    accuracy                           0.83      1161\n",
      "   macro avg       0.82      0.82      0.82      1161\n",
      "weighted avg       0.83      0.83      0.83      1161\n",
      "\n"
     ]
    }
   ],
   "source": [
    "# Evaluation\n",
    "print(\"Accuracy:\", accuracy_score(y_test, y_pred))\n",
    "print(classification_report(y_test, y_pred))"
   ]
  },
  {
   "cell_type": "code",
   "execution_count": 42,
   "metadata": {
    "id": "O3OvdWSximJM"
   },
   "outputs": [],
   "source": [
    "import time\n",
    "from memory_profiler import memory_usage\n",
    "from sklearn.model_selection import cross_val_score, StratifiedKFold"
   ]
  },
  {
   "cell_type": "code",
   "execution_count": 43,
   "metadata": {
    "id": "RnuKG1LniqjY"
   },
   "outputs": [],
   "source": [
    "# Define 5-fold cross-validation\n",
    "cv = StratifiedKFold(n_splits=5, shuffle=True, random_state=42)"
   ]
  },
  {
   "cell_type": "code",
   "execution_count": 44,
   "metadata": {
    "id": "8UqMn0bEit3Y"
   },
   "outputs": [],
   "source": [
    "# Measure training time and memory\n",
    "def train_model():\n",
    "    start = time.time()\n",
    "    ensemble.fit(X_train, y_train)\n",
    "    print(f\"\\nTraining Time: {time.time() - start:.2f} seconds\")"
   ]
  },
  {
   "cell_type": "code",
   "execution_count": 45,
   "metadata": {
    "id": "ORRuEJX2iyKU"
   },
   "outputs": [],
   "source": [
    "# Measure prediction time and memory\n",
    "def predict_model():\n",
    "    start = time.time()\n",
    "    y_pred = ensemble.predict(X_test)\n",
    "    print(f\"Prediction Time: {time.time() - start:.2f} seconds\")\n",
    "    return y_pred"
   ]
  },
  {
   "cell_type": "code",
   "execution_count": 46,
   "metadata": {
    "colab": {
     "base_uri": "https://localhost:8080/"
    },
    "id": "I-1UXSQzi1jJ",
    "outputId": "d3337188-d29f-4fb2-c590-0148608771ae"
   },
   "outputs": [
    {
     "name": "stdout",
     "output_type": "stream",
     "text": [
      "\n",
      "Training Time: 8.47 seconds\n",
      "Peak Memory Usage (Training): 1232.80 MiB\n",
      "Prediction Time: 0.50 seconds\n",
      "Peak Memory Usage (Prediction): 1159.01 MiB\n"
     ]
    }
   ],
   "source": [
    "# Wrap with memory profiling\n",
    "train_mem = memory_usage(train_model, max_iterations=1)\n",
    "print(f\"Peak Memory Usage (Training): {max(train_mem):.2f} MiB\")\n",
    "\n",
    "pred_mem = memory_usage(predict_model, max_iterations=1)\n",
    "print(f\"Peak Memory Usage (Prediction): {max(pred_mem):.2f} MiB\")"
   ]
  },
  {
   "cell_type": "code",
   "execution_count": 47,
   "metadata": {
    "colab": {
     "base_uri": "https://localhost:8080/"
    },
    "id": "EYCml4dvi6sf",
    "outputId": "54c750b0-0dbc-4775-90de-f2c26c41a001"
   },
   "outputs": [
    {
     "name": "stdout",
     "output_type": "stream",
     "text": [
      "Accuracy: 0.8337639965546942\n",
      "              precision    recall  f1-score   support\n",
      "\n",
      "           0       0.87      0.87      0.87       749\n",
      "           1       0.76      0.77      0.77       412\n",
      "\n",
      "    accuracy                           0.83      1161\n",
      "   macro avg       0.82      0.82      0.82      1161\n",
      "weighted avg       0.83      0.83      0.83      1161\n",
      "\n",
      "\n",
      "CV Accuracy: 0.8421 ± 0.0022\n"
     ]
    }
   ],
   "source": [
    "# Evaluate accuracy\n",
    "y_pred = ensemble.predict(X_test)\n",
    "print(\"Accuracy:\", accuracy_score(y_test, y_pred))\n",
    "print(classification_report(y_test, y_pred))\n",
    "\n",
    "# Cross-validation\n",
    "scores = cross_val_score(ensemble, X, y, cv=cv, scoring=\"accuracy\")\n",
    "print(f\"\\nCV Accuracy: {scores.mean():.4f} ± {scores.std():.4f}\")"
   ]
  },
  {
   "cell_type": "code",
   "execution_count": 36,
   "metadata": {
    "colab": {
     "base_uri": "https://localhost:8080/",
     "height": 472
    },
    "id": "zqmhXc0hf5F-",
    "outputId": "a94a5247-b58e-4668-a5b3-987fada56dea"
   },
   "outputs": [
    {
     "data": {
      "image/png": "[encoded data removed]",
      "text/plain": [
       "<Figure size 640x480 with 1 Axes>"
      ]
     },
     "metadata": {},
     "output_type": "display_data"
    }
   ],
   "source": [
    "# Plot ROC Curve (for binary classification only)\n",
    "if len(set(y)) == 2:\n",
    "    y_binary = y_test.map({y.unique()[0]: 0, y.unique()[1]: 1}).values\n",
    "    proba = y_proba[:, 1]\n",
    "    auc = roc_auc_score(y_binary, proba)\n",
    "    fpr, tpr, _ = roc_curve(y_binary, proba)\n",
    "\n",
    "    plt.plot(fpr, tpr, label=f\"AUC = {auc:.2f}\")\n",
    "    plt.plot([0, 1], [0, 1], linestyle=\"--\")\n",
    "    plt.xlabel(\"False Positive Rate\")\n",
    "    plt.ylabel(\"True Positive Rate\")\n",
    "    plt.title(\"ROC Curve\")\n",
    "    plt.legend()\n",
    "    plt.grid(True)\n",
    "    plt.show()\n",
    "else:\n",
    "    print(\"ROC curve is only shown for binary classification.\")"
   ]
  },
  {
   "cell_type": "markdown",
   "metadata": {
    "id": "ygLY9Dl_htdC"
   },
   "source": [
    "#Cross-Validation and Time/Memory Utilization"
   ]
  },
  {
   "cell_type": "code",
   "execution_count": 37,
   "metadata": {
    "colab": {
     "base_uri": "https://localhost:8080/"
    },
    "id": "gfJAOZI2g4Zu",
    "outputId": "08f7e476-af14-49cb-920c-83e6e60f03d3"
   },
   "outputs": [
    {
     "name": "stdout",
     "output_type": "stream",
     "text": [
      "Collecting memory-profiler\n",
      "  Downloading memory_profiler-0.61.0-py3-none-any.whl.metadata (20 kB)\n",
      "Requirement already satisfied: psutil in /usr/local/lib/python3.11/dist-packages (from memory-profiler) (5.9.5)\n",
      "Downloading memory_profiler-0.61.0-py3-none-any.whl (31 kB)\n",
      "Installing collected packages: memory-profiler\n",
      "Successfully installed memory-profiler-0.61.0\n"
     ]
    }
   ],
   "source": [
    "!pip install memory-profiler"
   ]
  },
  {
   "cell_type": "code",
   "execution_count": 38,
   "metadata": {
    "id": "kjloxtbBh4DD"
   },
   "outputs": [],
   "source": [
    "import time\n",
    "from memory_profiler import memory_usage\n",
    "from sklearn.model_selection import cross_val_score, StratifiedKFold"
   ]
  },
  {
   "cell_type": "code",
   "execution_count": 39,
   "metadata": {
    "id": "VMgQ1XQ_h6ZR"
   },
   "outputs": [],
   "source": [
    "# Define 5-fold cross-validation\n",
    "cv = StratifiedKFold(n_splits=5, shuffle=True, random_state=42)"
   ]
  },
  {
   "cell_type": "code",
   "execution_count": 40,
   "metadata": {
    "id": "uXfyPbewh0rT"
   },
   "outputs": [],
   "source": [
    "# Function to wrap training for memory profiling\n",
    "def train_and_evaluate():\n",
    "    start_time = time.time()\n",
    "\n",
    "    ensemble.fit(X_train, y_train)\n",
    "\n",
    "    scores = cross_val_score(ensemble, X, y, cv=cv, scoring=\"accuracy\")\n",
    "    duration = time.time() - start_time\n",
    "\n",
    "    print(f\"\\nCross-Validation Accuracy Scores: {scores}\")\n",
    "    print(f\"Mean Accuracy: {scores.mean():.4f} ± {scores.std():.4f}\")\n",
    "    print(f\"Training + CV Time: {duration:.2f} seconds\")\n",
    "    return ensemble"
   ]
  },
  {
   "cell_type": "code",
   "execution_count": 41,
   "metadata": {
    "colab": {
     "base_uri": "https://localhost:8080/"
    },
    "id": "IEIQrymuh_HX",
    "outputId": "c017d0ad-f299-4b37-94eb-67f57325d071"
   },
   "outputs": [
    {
     "name": "stdout",
     "output_type": "stream",
     "text": [
      "\n",
      "Cross-Validation Accuracy Scores: [0.84496124 0.83893196 0.84396552 0.84224138 0.84051724]\n",
      "Mean Accuracy: 0.8421 ± 0.0022\n",
      "Training + CV Time: 34.65 seconds\n",
      "\n",
      "Peak Memory Usage: 1232.73 MiB\n"
     ]
    }
   ],
   "source": [
    "# Measure memory usage\n",
    "mem_usage = memory_usage(train_and_evaluate, max_iterations=1)\n",
    "print(f\"\\nPeak Memory Usage: {max(mem_usage):.2f} MiB\")"
   ]
  },
  {
   "cell_type": "code",
   "execution_count": null,
   "metadata": {
    "id": "ToFZI-R5iAqn"
   },
   "outputs": [],
   "source": []
  }
 ],
 "metadata": {
  "accelerator": "GPU",
  "colab": {
   "gpuType": "T4",
   "provenance": []
  },
  "kernelspec": {
   "display_name": "Python 3 (ipykernel)",
   "language": "python",
   "name": "python3"
  },
  "language_info": {
   "codemirror_mode": {
    "name": "ipython",
    "version": 3
   },
   "file_extension": ".py",
   "mimetype": "text/x-python",
   "name": "python",
   "nbconvert_exporter": "python",
   "pygments_lexer": "ipython3",
   "version": "3.10.9"
  }
 },
 "nbformat": 4,
 "nbformat_minor": 1
}
