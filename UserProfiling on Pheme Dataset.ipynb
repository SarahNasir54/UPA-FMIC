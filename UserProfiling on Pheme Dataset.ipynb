{
 "cells": [
  {
   "cell_type": "code",
   "execution_count": 1,
   "id": "9521271b-a8f6-46bb-8524-c1b01f0aaa4e",
   "metadata": {},
   "outputs": [],
   "source": [
    "import pandas as pd\n",
    "import os\n",
    "import json\n",
    "from tqdm import tqdm\n",
    "from glob import glob"
   ]
  },
  {
   "cell_type": "code",
   "execution_count": 25,
   "id": "134145b9-55ce-4b0e-8ae9-3ac23512a6c6",
   "metadata": {},
   "outputs": [],
   "source": [
    "def load_pheme5_original(main_folder):\n",
    "    data = []\n",
    "\n",
    "    # Traverse event folders\n",
    "    for event_name in os.listdir(main_folder):\n",
    "        event_path = os.path.join(main_folder, event_name)\n",
    "        if not os.path.isdir(event_path):\n",
    "            continue\n",
    "\n",
    "        for label_type in ['rumours', 'non-rumours']:\n",
    "            label_path = os.path.join(event_path, label_type)\n",
    "            if not os.path.isdir(label_path):\n",
    "                continue\n",
    "\n",
    "            for tweet_folder in os.listdir(label_path):\n",
    "                tweet_dir = os.path.join(label_path, tweet_folder, 'source-tweet')\n",
    "                if not os.path.exists(tweet_dir):\n",
    "                    continue\n",
    "\n",
    "                # Load JSON file in the source-tweet folder\n",
    "                for json_file in glob(os.path.join(tweet_dir, '*.json')):\n",
    "                    try:\n",
    "                        with open(json_file, 'r', encoding='utf-8') as f:\n",
    "                            tweet = json.load(f)\n",
    "\n",
    "                        user = tweet.get('user', {})\n",
    "                        data.append({\n",
    "                            'id': tweet.get('id'),\n",
    "                            'text': tweet.get('text'),\n",
    "                            'created_at': tweet.get('created_at'),\n",
    "                            'label': label_type,\n",
    "                            'followers_count': user.get('followers_count'),\n",
    "                            'friends_count': user.get('friends_count'),\n",
    "                            'verified': user.get('verified'),\n",
    "                            'retweet_count': tweet.get('retweet_count'),\n",
    "                            'favorite_count': tweet.get('favorite_count')\n",
    "                        })\n",
    "                    except Exception as e:\n",
    "                        print(f\"Error reading {json_file}: {e}\")\n",
    "\n",
    "    df = pd.DataFrame(data)\n",
    "    return df"
   ]
  },
  {
   "cell_type": "code",
   "execution_count": 26,
   "id": "a7887cb3-c71c-4e35-bfd9-d2bd03644c12",
   "metadata": {},
   "outputs": [
    {
     "data": {
      "text/html": [
       "<div>\n",
       "<style scoped>\n",
       "    .dataframe tbody tr th:only-of-type {\n",
       "        vertical-align: middle;\n",
       "    }\n",
       "\n",
       "    .dataframe tbody tr th {\n",
       "        vertical-align: top;\n",
       "    }\n",
       "\n",
       "    .dataframe thead th {\n",
       "        text-align: right;\n",
       "    }\n",
       "</style>\n",
       "<table border=\"1\" class=\"dataframe\">\n",
       "  <thead>\n",
       "    <tr style=\"text-align: right;\">\n",
       "      <th></th>\n",
       "      <th>id</th>\n",
       "      <th>text</th>\n",
       "      <th>created_at</th>\n",
       "      <th>label</th>\n",
       "      <th>followers_count</th>\n",
       "      <th>friends_count</th>\n",
       "      <th>verified</th>\n",
       "      <th>retweet_count</th>\n",
       "      <th>favorite_count</th>\n",
       "    </tr>\n",
       "  </thead>\n",
       "  <tbody>\n",
       "    <tr>\n",
       "      <th>0</th>\n",
       "      <td>552783238415265792</td>\n",
       "      <td>Breaking: At least 10 dead, 5 injured after tO...</td>\n",
       "      <td>Wed Jan 07 11:06:08 +0000 2015</td>\n",
       "      <td>rumours</td>\n",
       "      <td>1628</td>\n",
       "      <td>246</td>\n",
       "      <td>False</td>\n",
       "      <td>159</td>\n",
       "      <td>14</td>\n",
       "    </tr>\n",
       "    <tr>\n",
       "      <th>1</th>\n",
       "      <td>552783667052167168</td>\n",
       "      <td>France: 10 people dead after shooting at HQ of...</td>\n",
       "      <td>Wed Jan 07 11:07:51 +0000 2015</td>\n",
       "      <td>rumours</td>\n",
       "      <td>129573</td>\n",
       "      <td>337</td>\n",
       "      <td>True</td>\n",
       "      <td>486</td>\n",
       "      <td>38</td>\n",
       "    </tr>\n",
       "    <tr>\n",
       "      <th>2</th>\n",
       "      <td>552783745565347840</td>\n",
       "      <td>Ten killed in shooting at headquarters of Fren...</td>\n",
       "      <td>Wed Jan 07 11:08:09 +0000 2015</td>\n",
       "      <td>rumours</td>\n",
       "      <td>529882</td>\n",
       "      <td>3051</td>\n",
       "      <td>True</td>\n",
       "      <td>127</td>\n",
       "      <td>15</td>\n",
       "    </tr>\n",
       "    <tr>\n",
       "      <th>3</th>\n",
       "      <td>552784168849907712</td>\n",
       "      <td>BREAKING: 10 dead in shooting at headquarters ...</td>\n",
       "      <td>Wed Jan 07 11:09:50 +0000 2015</td>\n",
       "      <td>rumours</td>\n",
       "      <td>499741</td>\n",
       "      <td>31</td>\n",
       "      <td>True</td>\n",
       "      <td>105</td>\n",
       "      <td>15</td>\n",
       "    </tr>\n",
       "    <tr>\n",
       "      <th>4</th>\n",
       "      <td>552784526955806720</td>\n",
       "      <td>Reuters: 10 people shot dead at headquarters o...</td>\n",
       "      <td>Wed Jan 07 11:11:16 +0000 2015</td>\n",
       "      <td>rumours</td>\n",
       "      <td>1377384</td>\n",
       "      <td>6</td>\n",
       "      <td>True</td>\n",
       "      <td>412</td>\n",
       "      <td>32</td>\n",
       "    </tr>\n",
       "  </tbody>\n",
       "</table>\n",
       "</div>"
      ],
      "text/plain": [
       "                   id                                               text  \\\n",
       "0  552783238415265792  Breaking: At least 10 dead, 5 injured after tO...   \n",
       "1  552783667052167168  France: 10 people dead after shooting at HQ of...   \n",
       "2  552783745565347840  Ten killed in shooting at headquarters of Fren...   \n",
       "3  552784168849907712  BREAKING: 10 dead in shooting at headquarters ...   \n",
       "4  552784526955806720  Reuters: 10 people shot dead at headquarters o...   \n",
       "\n",
       "                       created_at    label  followers_count  friends_count  \\\n",
       "0  Wed Jan 07 11:06:08 +0000 2015  rumours             1628            246   \n",
       "1  Wed Jan 07 11:07:51 +0000 2015  rumours           129573            337   \n",
       "2  Wed Jan 07 11:08:09 +0000 2015  rumours           529882           3051   \n",
       "3  Wed Jan 07 11:09:50 +0000 2015  rumours           499741             31   \n",
       "4  Wed Jan 07 11:11:16 +0000 2015  rumours          1377384              6   \n",
       "\n",
       "   verified  retweet_count  favorite_count  \n",
       "0     False            159              14  \n",
       "1      True            486              38  \n",
       "2      True            127              15  \n",
       "3      True            105              15  \n",
       "4      True            412              32  "
      ]
     },
     "execution_count": 26,
     "metadata": {},
     "output_type": "execute_result"
    }
   ],
   "source": [
    "pheme_df = load_pheme5_original(r'D:\\text datasets\\text datasets\\phemernrdataset\\pheme-rnr-dataset')\n",
    "pheme_df.head()"
   ]
  },
  {
   "cell_type": "markdown",
   "id": "e71e2e9a-1f0e-4784-909c-87680a676ddd",
   "metadata": {},
   "source": [
    "# Preprocessing"
   ]
  },
  {
   "cell_type": "code",
   "execution_count": 27,
   "id": "5b8c0453-0ceb-402c-bd22-1e07f91c627b",
   "metadata": {},
   "outputs": [],
   "source": [
    "import re\n",
    "import string\n",
    "from nltk.corpus import stopwords"
   ]
  },
  {
   "cell_type": "code",
   "execution_count": 28,
   "id": "6f1e3667-cffe-429d-901f-50c169b7a5de",
   "metadata": {},
   "outputs": [],
   "source": [
    "#PREPROCESSING USING REGULAR EXPRESSION\n",
    "def clean_texts(text):\n",
    "    text = re.sub(r\"that’s\",\"that is\",text)\n",
    "    text = re.sub(r\"there’s\",\"there is\",text)\n",
    "    text = re.sub(r\"what’s\",\"what is\",text)\n",
    "    text = re.sub(r\"where’s\",\"where is\",text)\n",
    "    text = re.sub(r\"it’s\",\"it is\",text)\n",
    "    text = re.sub(r\"who’s\",\"who is\",text)\n",
    "    text = re.sub(r\"i’m\",\"i am\",text)\n",
    "    text = re.sub(r\"she’s\",\"she is\",text)\n",
    "    text = re.sub(r\"he’s\",\"he is\",text)\n",
    "    text = re.sub(r\"they’re\",\"they are\",text)\n",
    "    text = re.sub(r\"who're\",\"who are\",text)\n",
    "    text = re.sub(r\"ain’t\",\"am not\",text)\n",
    "    text = re.sub(r\"wouldn’t\",\"would not\",text)\n",
    "    text = re.sub(r\"shouldn’t\",\"should not\",text)\n",
    "    text = re.sub(r\"can’t\",\"can not\",text)\n",
    "    text = re.sub(r\"couldn’t\",\"could not\",text)\n",
    "    text = re.sub(r\"won’t\",\"will not\",text)\n",
    "    text = re.sub(r\"didn’t\",\"did not\",text)\n",
    "    text = re.sub(r\"doesn’t\",\"does not\",text)\n",
    "    # remove URL\n",
    "    text = re.sub(r\"http\\S+\", \" \", text)\n",
    "#     # Remove usernames\n",
    "    text = re.sub(r\"@[^\\s]+[\\s]?\",' ',text)\n",
    "#     # remove special characters \n",
    "    text = re.sub('[^ a-zA-Z0-9]', ' ', text)\n",
    "#     # remove Numbers\n",
    "    text = re.sub('[0-9]', '', text)\n",
    "    text = re.sub(' +', ' ',text)\n",
    "    text = text.encode('ascii', 'ignore').decode()\n",
    "    text = re.sub(r'@\\S+', ' ', text)\n",
    "    text = re.sub(r'#\\S+', ' ', text)\n",
    "    text = re.sub(r'\\'\\w+', '', text)\n",
    "    text = re.sub('[%s]' % re.escape(string.punctuation), ' ', text)\n",
    "    text = re.sub(r'\\w*\\d+\\w*', '', text)\n",
    "    text = re.sub(r'\\s{2,}', ' ', text)\n",
    "\n",
    "    return text"
   ]
  },
  {
   "cell_type": "code",
   "execution_count": 29,
   "id": "b3e98e91-00de-4b11-9b2f-a41986ebbc25",
   "metadata": {},
   "outputs": [],
   "source": [
    "pheme_df['text'] = pheme_df['text'].apply(clean_texts)"
   ]
  },
  {
   "cell_type": "code",
   "execution_count": 30,
   "id": "576da136-be49-4f38-a12f-be9426046cda",
   "metadata": {},
   "outputs": [],
   "source": [
    "stops = set(stopwords.words(\"english\")) \n",
    "pheme_df['text']=pheme_df['text'].str.lower()\n",
    "pheme_df['text']=pheme_df['text'].apply(lambda x:' '.join([word for word in x.split() if word.lower() not in (stops)]))"
   ]
  },
  {
   "cell_type": "code",
   "execution_count": 31,
   "id": "dafe2d2c-ee5f-4fdd-b4d9-d8e14b824b76",
   "metadata": {},
   "outputs": [],
   "source": [
    "pheme_df['label'] = pheme_df['label'].map({'non-rumours': 0, 'rumours': 1})"
   ]
  },
  {
   "cell_type": "markdown",
   "id": "7934203f-d832-4117-a10a-ea56d3bfdd62",
   "metadata": {},
   "source": [
    "# BERT"
   ]
  },
  {
   "cell_type": "code",
   "execution_count": 33,
   "id": "deff5725-67ba-4eb6-8338-b218be5815a7",
   "metadata": {},
   "outputs": [],
   "source": [
    "from transformers import BertTokenizer\n",
    "import torch\n",
    "from sklearn.model_selection import train_test_split\n",
    "from sklearn.preprocessing import StandardScaler\n",
    "from torch.utils.data import Dataset, DataLoader\n",
    "import pandas as pd"
   ]
  },
  {
   "cell_type": "code",
   "execution_count": 34,
   "id": "04c60882-e003-4719-b07d-ea7491040431",
   "metadata": {},
   "outputs": [
    {
     "name": "stderr",
     "output_type": "stream",
     "text": [
      "C:\\Users\\PC\\anaconda3\\Lib\\site-packages\\transformers\\tokenization_utils_base.py:1601: FutureWarning: `clean_up_tokenization_spaces` was not set. It will be set to `True` by default. This behavior will be depracted in transformers v4.45, and will be then set to `False` by default. For more details check this issue: https://github.com/huggingface/transformers/issues/31884\n",
      "  warnings.warn(\n"
     ]
    }
   ],
   "source": [
    "# Load BERT tokenizer\n",
    "tokenizer = BertTokenizer.from_pretrained('bert-base-uncased')"
   ]
  },
  {
   "cell_type": "code",
   "execution_count": 35,
   "id": "1d64d7d4-56d5-4f21-93c1-af66f4dafb52",
   "metadata": {},
   "outputs": [],
   "source": [
    "# Text tokenization function\n",
    "def tokenize_text(text_list):\n",
    "    return tokenizer(\n",
    "        text_list,\n",
    "        padding=True,\n",
    "        truncation=True,\n",
    "        max_length=128,\n",
    "        return_tensors='pt'\n",
    "    )"
   ]
  },
  {
   "cell_type": "code",
   "execution_count": 36,
   "id": "70e1b541-6d6e-4800-9318-32ed52c2f39c",
   "metadata": {},
   "outputs": [],
   "source": [
    "# Normalize user features\n",
    "user_features = ['followers_count', 'friends_count', 'verified', 'retweet_count', 'favorite_count']\n",
    "pheme_df[user_features] = pheme_df[user_features].fillna(0)\n",
    "pheme_df['verified'] = pheme_df['verified'].astype(int) "
   ]
  },
  {
   "cell_type": "code",
   "execution_count": 37,
   "id": "26425dd3-218a-4cce-8c62-3c4008cedaad",
   "metadata": {},
   "outputs": [],
   "source": [
    "scaler = StandardScaler()\n",
    "pheme_df[user_features] = scaler.fit_transform(pheme_df[user_features])"
   ]
  },
  {
   "cell_type": "code",
   "execution_count": 38,
   "id": "29b26f14-47c0-43f7-9782-2bee44439b9c",
   "metadata": {},
   "outputs": [],
   "source": [
    "train_df, test_df = train_test_split(pheme_df, test_size=0.2, random_state=42, stratify=pheme_df['label'])"
   ]
  },
  {
   "cell_type": "code",
   "execution_count": 45,
   "id": "d78742fb-4885-4368-8b0b-ab2a2cbad77e",
   "metadata": {},
   "outputs": [],
   "source": [
    "import torch.nn as nn\n",
    "from transformers import BertModel\n",
    "from torch.utils.data import DataLoader\n",
    "from transformers import AdamW\n",
    "from sklearn.metrics import accuracy_score\n",
    "from sklearn.metrics import classification_report, accuracy_score\n",
    "from tqdm import tqdm\n",
    "import torch.nn.functional as F"
   ]
  },
  {
   "cell_type": "code",
   "execution_count": 40,
   "id": "a4b924cb-1202-462f-b078-4c2947dd64f0",
   "metadata": {},
   "outputs": [],
   "source": [
    "class RumorDataset(Dataset):\n",
    "    def __init__(self, dataframe):\n",
    "        self.texts = dataframe['text'].tolist()\n",
    "        self.labels = dataframe['label'].tolist()\n",
    "        self.user_feats = dataframe[user_features].values\n",
    "        self.encodings = tokenize_text(self.texts)\n",
    "\n",
    "    def __getitem__(self, idx):\n",
    "        item = {key: val[idx] for key, val in self.encodings.items()}\n",
    "        item['user_feats'] = torch.tensor(self.user_feats[idx], dtype=torch.float)\n",
    "        item['labels'] = torch.tensor(self.labels[idx], dtype=torch.long)\n",
    "        return item\n",
    "\n",
    "    def __len__(self):\n",
    "        return len(self.labels)\n",
    "\n",
    "train_dataset = RumorDataset(train_df)\n",
    "test_dataset = RumorDataset(test_df)"
   ]
  },
  {
   "cell_type": "code",
   "execution_count": 41,
   "id": "64f455db-76c3-429e-a8c3-22cc26aa8d95",
   "metadata": {},
   "outputs": [],
   "source": [
    "class BertWithUserFeatures(nn.Module):\n",
    "    def __init__(self):\n",
    "        super(BertWithUserFeatures, self).__init__()\n",
    "        self.bert = BertModel.from_pretrained('bert-base-uncased')\n",
    "        self.dropout = nn.Dropout(0.3)\n",
    "        self.user_fc = nn.Linear(len(user_features), 32)\n",
    "        self.classifier = nn.Linear(self.bert.config.hidden_size + 32, 2)\n",
    "\n",
    "    def forward(self, input_ids, attention_mask, user_feats):\n",
    "        outputs = self.bert(input_ids=input_ids, attention_mask=attention_mask)\n",
    "        cls_output = outputs.pooler_output\n",
    "        user_emb = self.user_fc(user_feats)\n",
    "        combined = torch.cat((cls_output, user_emb), dim=1)\n",
    "        combined = self.dropout(combined)\n",
    "        logits = self.classifier(combined)\n",
    "        return logits"
   ]
  },
  {
   "cell_type": "code",
   "execution_count": 42,
   "id": "24d61120-b831-4f9e-ba18-aaf4a607a2a2",
   "metadata": {},
   "outputs": [
    {
     "name": "stderr",
     "output_type": "stream",
     "text": [
      "C:\\Users\\PC\\anaconda3\\Lib\\site-packages\\transformers\\optimization.py:591: FutureWarning: This implementation of AdamW is deprecated and will be removed in a future version. Use the PyTorch implementation torch.optim.AdamW instead, or set `no_deprecation_warning=True` to disable this warning\n",
      "  warnings.warn(\n"
     ]
    }
   ],
   "source": [
    "device = torch.device('cuda' if torch.cuda.is_available() else 'cpu')\n",
    "model = BertWithUserFeatures().to(device)\n",
    "optimizer = AdamW(model.parameters(), lr=2e-5)"
   ]
  },
  {
   "cell_type": "code",
   "execution_count": 43,
   "id": "8ab3153d-b360-4748-8db3-9c57ce1e9c2b",
   "metadata": {},
   "outputs": [],
   "source": [
    "train_loader = DataLoader(train_dataset, batch_size=16, shuffle=True)\n",
    "test_loader = DataLoader(test_dataset, batch_size=16)"
   ]
  },
  {
   "cell_type": "code",
   "execution_count": null,
   "id": "c9f45caf-9b45-48d8-a01e-748077a5984c",
   "metadata": {},
   "outputs": [
    {
     "name": "stderr",
     "output_type": "stream",
     "text": [
      "Epoch 1: 100%|██████████████████████████████████████████████████████████| 291/291 [09:03<00:00,  1.87s/it, loss=0.0417]\n"
     ]
    },
    {
     "name": "stdout",
     "output_type": "stream",
     "text": [
      "\n",
      "Epoch 1 Loss: 0.0775 Training Accuracy: 0.9754\n",
      "\n"
     ]
    },
    {
     "name": "stderr",
     "output_type": "stream",
     "text": [
      "Epoch 2: 100%|█████████████████████████████████████████████████████████| 291/291 [10:11<00:00,  2.10s/it, loss=0.00578]\n"
     ]
    },
    {
     "name": "stdout",
     "output_type": "stream",
     "text": [
      "\n",
      "Epoch 2 Loss: 0.0451 Training Accuracy: 0.9847\n",
      "\n"
     ]
    },
    {
     "name": "stderr",
     "output_type": "stream",
     "text": [
      "Epoch 3:  32%|██████████████████▋                                       | 94/291 [03:17<06:08,  1.87s/it, loss=0.00237]"
     ]
    }
   ],
   "source": [
    "# Training loop\n",
    "for epoch in range(3): \n",
    "    model.train()\n",
    "    total_loss = 0\n",
    "    all_preds = []\n",
    "    all_labels = []\n",
    "\n",
    "    loop = tqdm(train_loader, desc=f\"Epoch {epoch+1}\")\n",
    "    \n",
    "    for batch in loop:\n",
    "        input_ids = batch['input_ids'].to(device)\n",
    "        attention_mask = batch['attention_mask'].to(device)\n",
    "        user_feats = batch['user_feats'].to(device)\n",
    "        labels = batch['labels'].to(device)\n",
    "\n",
    "        optimizer.zero_grad()\n",
    "        outputs = model(input_ids, attention_mask, user_feats)\n",
    "\n",
    "        loss = nn.CrossEntropyLoss()(outputs, labels)\n",
    "        total_loss += loss.item()\n",
    "\n",
    "        loss.backward()\n",
    "        optimizer.step()\n",
    "\n",
    "        # Collect predictions for accuracy\n",
    "        preds = torch.argmax(outputs, dim=1)\n",
    "        all_preds.extend(preds.detach().cpu().numpy())\n",
    "        all_labels.extend(labels.detach().cpu().numpy())\n",
    "\n",
    "        # Update progress bar\n",
    "        loop.set_postfix(loss=loss.item())\n",
    "\n",
    "    # Epoch stats\n",
    "    avg_loss = total_loss / len(train_loader)\n",
    "    epoch_acc = accuracy_score(all_labels, all_preds)\n",
    "\n",
    "    print(f\"\\nEpoch {epoch+1} Loss: {avg_loss:.4f} Training Accuracy: {epoch_acc:.4f}\\n\")\n"
   ]
  },
  {
   "cell_type": "code",
   "execution_count": null,
   "id": "f1a7228b-dad7-457b-9c1f-b4685f163a4d",
   "metadata": {},
   "outputs": [],
   "source": [
    "# Evaluation\n",
    "model.eval()\n",
    "all_preds, all_labels = [], []\n",
    "\n",
    "with torch.no_grad():\n",
    "    for batch in test_loader:\n",
    "        input_ids = batch['input_ids'].to(device)\n",
    "        attention_mask = batch['attention_mask'].to(device)\n",
    "        user_feats = batch['user_feats'].to(device)\n",
    "        labels = batch['labels'].to(device)\n",
    "\n",
    "        outputs = model(input_ids, attention_mask, user_feats)\n",
    "        preds = torch.argmax(outputs, dim=1)\n",
    "\n",
    "        all_preds.extend(preds.cpu().numpy())\n",
    "        all_labels.extend(labels.cpu().numpy())"
   ]
  },
  {
   "cell_type": "code",
   "execution_count": null,
   "id": "6ffa4ac4-2042-4afb-8106-e2104228dd76",
   "metadata": {},
   "outputs": [],
   "source": [
    "# Accuracy\n",
    "acc = accuracy_score(all_labels, all_preds)\n",
    "print(\"Test Accuracy:\", acc)\n",
    "\n",
    "# Classification Report\n",
    "print(\"Classification Report:\")\n",
    "print(classification_report(all_labels, all_preds, target_names=[\"non-rumor\", \"rumor\"]))"
   ]
  }
 ],
 "metadata": {
  "kernelspec": {
   "display_name": "Python 3 (ipykernel)",
   "language": "python",
   "name": "python3"
  },
  "language_info": {
   "codemirror_mode": {
    "name": "ipython",
    "version": 3
   },
   "file_extension": ".py",
   "mimetype": "text/x-python",
   "name": "python",
   "nbconvert_exporter": "python",
   "pygments_lexer": "ipython3",
   "version": "3.12.4"
  }
 },
 "nbformat": 4,
 "nbformat_minor": 5
}
